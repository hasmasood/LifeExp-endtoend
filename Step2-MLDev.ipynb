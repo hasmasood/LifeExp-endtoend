{
 "cells": [
  {
   "attachments": {},
   "cell_type": "markdown",
   "metadata": {},
   "source": [
    "# Initializing"
   ]
  },
  {
   "cell_type": "code",
   "execution_count": 1,
   "metadata": {},
   "outputs": [
    {
     "name": "stdout",
     "output_type": "stream",
     "text": [
      "     active environment : aws_env\n",
      "    active env location : /home/hassan101/anaconda3/envs/aws_env\n"
     ]
    }
   ],
   "source": [
    "#Active environment should be aws_env\n",
    "!conda info | grep 'active env'"
   ]
  },
  {
   "cell_type": "code",
   "execution_count": 2,
   "metadata": {},
   "outputs": [],
   "source": [
    "#Get AWS credentials from environment\n",
    "import os\n",
    "aws_akid = os.environ['AWS_KID']\n",
    "aws_sak = os.environ['AWS_AK']"
   ]
  },
  {
   "cell_type": "code",
   "execution_count": 3,
   "metadata": {},
   "outputs": [],
   "source": [
    "#Importing libraries\n",
    "import boto3\n",
    "import pandas as pd\n",
    "import io\n",
    "import matplotlib.pyplot as plt\n",
    "import seaborn as sns\n",
    "\n",
    "%matplotlib inline"
   ]
  },
  {
   "attachments": {},
   "cell_type": "markdown",
   "metadata": {},
   "source": [
    "# Getting processed data from S3 bucket"
   ]
  },
  {
   "cell_type": "code",
   "execution_count": 4,
   "metadata": {},
   "outputs": [],
   "source": [
    "#Authentication\n",
    "res_s3 = boto3.resource('s3', aws_access_key_id=aws_akid, aws_secret_access_key= aws_sak)\n",
    "client_s3 = boto3.client('s3', aws_access_key_id=aws_akid, aws_secret_access_key= aws_sak) "
   ]
  },
  {
   "cell_type": "code",
   "execution_count": 5,
   "metadata": {},
   "outputs": [
    {
     "name": "stdout",
     "output_type": "stream",
     "text": [
      "{'Key': 'lifexp-processed.csv', 'LastModified': datetime.datetime(2023, 2, 9, 9, 16, 24, tzinfo=tzutc()), 'ETag': '\"9e138a0af6f65a9b4338da770613527c\"', 'Size': 98812, 'StorageClass': 'STANDARD'}\n"
     ]
    }
   ],
   "source": [
    "# List all objects in bucket\n",
    "bucket_name = 'reg-dataset-processed'\n",
    "\n",
    "response = client_s3.list_objects_v2(Bucket=bucket_name)\n",
    "for obj in response['Contents']:\n",
    "    print(obj)"
   ]
  },
  {
   "cell_type": "code",
   "execution_count": 6,
   "metadata": {},
   "outputs": [
    {
     "name": "stdout",
     "output_type": "stream",
     "text": [
      "Successful S3 get_object response. Status - 200\n"
     ]
    }
   ],
   "source": [
    "response = client_s3.get_object(Bucket=bucket_name, Key=\"lifexp-processed.csv\")\n",
    "\n",
    "status = response.get(\"ResponseMetadata\", {}).get(\"HTTPStatusCode\")\n",
    "\n",
    "if status == 200:\n",
    "    print(f\"Successful S3 get_object response. Status - {status}\")\n",
    "    df = pd.read_csv(response.get(\"Body\"))\n",
    "else:\n",
    "    print(f\"Unsuccessful S3 get_object response. Status - {status}\")"
   ]
  },
  {
   "cell_type": "code",
   "execution_count": 7,
   "metadata": {},
   "outputs": [
    {
     "data": {
      "text/html": [
       "<div>\n",
       "<style scoped>\n",
       "    .dataframe tbody tr th:only-of-type {\n",
       "        vertical-align: middle;\n",
       "    }\n",
       "\n",
       "    .dataframe tbody tr th {\n",
       "        vertical-align: top;\n",
       "    }\n",
       "\n",
       "    .dataframe thead th {\n",
       "        text-align: right;\n",
       "    }\n",
       "</style>\n",
       "<table border=\"1\" class=\"dataframe\">\n",
       "  <thead>\n",
       "    <tr style=\"text-align: right;\">\n",
       "      <th></th>\n",
       "      <th>HIV/AIDS</th>\n",
       "      <th>Income composition of resources</th>\n",
       "      <th>Adult mortality</th>\n",
       "      <th>Under-five deaths</th>\n",
       "      <th>Thinness 5-9 years</th>\n",
       "      <th>Status</th>\n",
       "      <th>Polio</th>\n",
       "      <th>Total expenditure</th>\n",
       "    </tr>\n",
       "  </thead>\n",
       "  <tbody>\n",
       "    <tr>\n",
       "      <th>0</th>\n",
       "      <td>0.1</td>\n",
       "      <td>0.479</td>\n",
       "      <td>263</td>\n",
       "      <td>83</td>\n",
       "      <td>17.3</td>\n",
       "      <td>Developing</td>\n",
       "      <td>6</td>\n",
       "      <td>8.16</td>\n",
       "    </tr>\n",
       "    <tr>\n",
       "      <th>1</th>\n",
       "      <td>0.1</td>\n",
       "      <td>0.476</td>\n",
       "      <td>271</td>\n",
       "      <td>86</td>\n",
       "      <td>17.5</td>\n",
       "      <td>Developing</td>\n",
       "      <td>58</td>\n",
       "      <td>8.18</td>\n",
       "    </tr>\n",
       "    <tr>\n",
       "      <th>2</th>\n",
       "      <td>0.1</td>\n",
       "      <td>0.470</td>\n",
       "      <td>268</td>\n",
       "      <td>89</td>\n",
       "      <td>17.7</td>\n",
       "      <td>Developing</td>\n",
       "      <td>62</td>\n",
       "      <td>8.13</td>\n",
       "    </tr>\n",
       "    <tr>\n",
       "      <th>3</th>\n",
       "      <td>0.1</td>\n",
       "      <td>0.463</td>\n",
       "      <td>272</td>\n",
       "      <td>93</td>\n",
       "      <td>18.0</td>\n",
       "      <td>Developing</td>\n",
       "      <td>67</td>\n",
       "      <td>8.52</td>\n",
       "    </tr>\n",
       "    <tr>\n",
       "      <th>4</th>\n",
       "      <td>0.1</td>\n",
       "      <td>0.454</td>\n",
       "      <td>275</td>\n",
       "      <td>97</td>\n",
       "      <td>18.2</td>\n",
       "      <td>Developing</td>\n",
       "      <td>68</td>\n",
       "      <td>7.87</td>\n",
       "    </tr>\n",
       "    <tr>\n",
       "      <th>5</th>\n",
       "      <td>0.1</td>\n",
       "      <td>0.448</td>\n",
       "      <td>279</td>\n",
       "      <td>102</td>\n",
       "      <td>18.4</td>\n",
       "      <td>Developing</td>\n",
       "      <td>66</td>\n",
       "      <td>9.20</td>\n",
       "    </tr>\n",
       "    <tr>\n",
       "      <th>6</th>\n",
       "      <td>0.1</td>\n",
       "      <td>0.434</td>\n",
       "      <td>281</td>\n",
       "      <td>106</td>\n",
       "      <td>18.7</td>\n",
       "      <td>Developing</td>\n",
       "      <td>63</td>\n",
       "      <td>9.42</td>\n",
       "    </tr>\n",
       "    <tr>\n",
       "      <th>7</th>\n",
       "      <td>0.1</td>\n",
       "      <td>0.433</td>\n",
       "      <td>287</td>\n",
       "      <td>110</td>\n",
       "      <td>18.9</td>\n",
       "      <td>Developing</td>\n",
       "      <td>64</td>\n",
       "      <td>8.33</td>\n",
       "    </tr>\n",
       "    <tr>\n",
       "      <th>8</th>\n",
       "      <td>0.1</td>\n",
       "      <td>0.415</td>\n",
       "      <td>295</td>\n",
       "      <td>113</td>\n",
       "      <td>19.1</td>\n",
       "      <td>Developing</td>\n",
       "      <td>63</td>\n",
       "      <td>6.73</td>\n",
       "    </tr>\n",
       "    <tr>\n",
       "      <th>9</th>\n",
       "      <td>0.1</td>\n",
       "      <td>0.405</td>\n",
       "      <td>295</td>\n",
       "      <td>116</td>\n",
       "      <td>19.3</td>\n",
       "      <td>Developing</td>\n",
       "      <td>58</td>\n",
       "      <td>7.43</td>\n",
       "    </tr>\n",
       "    <tr>\n",
       "      <th>10</th>\n",
       "      <td>0.1</td>\n",
       "      <td>0.396</td>\n",
       "      <td>291</td>\n",
       "      <td>118</td>\n",
       "      <td>19.5</td>\n",
       "      <td>Developing</td>\n",
       "      <td>58</td>\n",
       "      <td>8.70</td>\n",
       "    </tr>\n",
       "    <tr>\n",
       "      <th>11</th>\n",
       "      <td>0.1</td>\n",
       "      <td>0.381</td>\n",
       "      <td>293</td>\n",
       "      <td>120</td>\n",
       "      <td>19.7</td>\n",
       "      <td>Developing</td>\n",
       "      <td>5</td>\n",
       "      <td>8.79</td>\n",
       "    </tr>\n",
       "    <tr>\n",
       "      <th>12</th>\n",
       "      <td>0.1</td>\n",
       "      <td>0.373</td>\n",
       "      <td>295</td>\n",
       "      <td>122</td>\n",
       "      <td>19.9</td>\n",
       "      <td>Developing</td>\n",
       "      <td>41</td>\n",
       "      <td>8.82</td>\n",
       "    </tr>\n",
       "    <tr>\n",
       "      <th>13</th>\n",
       "      <td>0.1</td>\n",
       "      <td>0.341</td>\n",
       "      <td>3</td>\n",
       "      <td>122</td>\n",
       "      <td>2.2</td>\n",
       "      <td>Developing</td>\n",
       "      <td>36</td>\n",
       "      <td>7.76</td>\n",
       "    </tr>\n",
       "    <tr>\n",
       "      <th>14</th>\n",
       "      <td>0.1</td>\n",
       "      <td>0.340</td>\n",
       "      <td>316</td>\n",
       "      <td>122</td>\n",
       "      <td>2.4</td>\n",
       "      <td>Developing</td>\n",
       "      <td>35</td>\n",
       "      <td>7.80</td>\n",
       "    </tr>\n",
       "    <tr>\n",
       "      <th>15</th>\n",
       "      <td>0.1</td>\n",
       "      <td>0.338</td>\n",
       "      <td>321</td>\n",
       "      <td>122</td>\n",
       "      <td>2.5</td>\n",
       "      <td>Developing</td>\n",
       "      <td>24</td>\n",
       "      <td>8.20</td>\n",
       "    </tr>\n",
       "    <tr>\n",
       "      <th>16</th>\n",
       "      <td>0.1</td>\n",
       "      <td>0.762</td>\n",
       "      <td>74</td>\n",
       "      <td>0</td>\n",
       "      <td>1.3</td>\n",
       "      <td>Developing</td>\n",
       "      <td>99</td>\n",
       "      <td>6.00</td>\n",
       "    </tr>\n",
       "    <tr>\n",
       "      <th>17</th>\n",
       "      <td>0.1</td>\n",
       "      <td>0.761</td>\n",
       "      <td>8</td>\n",
       "      <td>1</td>\n",
       "      <td>1.3</td>\n",
       "      <td>Developing</td>\n",
       "      <td>98</td>\n",
       "      <td>5.88</td>\n",
       "    </tr>\n",
       "    <tr>\n",
       "      <th>18</th>\n",
       "      <td>0.1</td>\n",
       "      <td>0.759</td>\n",
       "      <td>84</td>\n",
       "      <td>1</td>\n",
       "      <td>1.4</td>\n",
       "      <td>Developing</td>\n",
       "      <td>99</td>\n",
       "      <td>5.66</td>\n",
       "    </tr>\n",
       "    <tr>\n",
       "      <th>19</th>\n",
       "      <td>0.1</td>\n",
       "      <td>0.752</td>\n",
       "      <td>86</td>\n",
       "      <td>1</td>\n",
       "      <td>1.4</td>\n",
       "      <td>Developing</td>\n",
       "      <td>99</td>\n",
       "      <td>5.59</td>\n",
       "    </tr>\n",
       "  </tbody>\n",
       "</table>\n",
       "</div>"
      ],
      "text/plain": [
       "    HIV/AIDS  Income composition of resources  Adult mortality  \\\n",
       "0        0.1                            0.479              263   \n",
       "1        0.1                            0.476              271   \n",
       "2        0.1                            0.470              268   \n",
       "3        0.1                            0.463              272   \n",
       "4        0.1                            0.454              275   \n",
       "5        0.1                            0.448              279   \n",
       "6        0.1                            0.434              281   \n",
       "7        0.1                            0.433              287   \n",
       "8        0.1                            0.415              295   \n",
       "9        0.1                            0.405              295   \n",
       "10       0.1                            0.396              291   \n",
       "11       0.1                            0.381              293   \n",
       "12       0.1                            0.373              295   \n",
       "13       0.1                            0.341                3   \n",
       "14       0.1                            0.340              316   \n",
       "15       0.1                            0.338              321   \n",
       "16       0.1                            0.762               74   \n",
       "17       0.1                            0.761                8   \n",
       "18       0.1                            0.759               84   \n",
       "19       0.1                            0.752               86   \n",
       "\n",
       "    Under-five deaths  Thinness 5-9 years      Status  Polio  \\\n",
       "0                  83                17.3  Developing      6   \n",
       "1                  86                17.5  Developing     58   \n",
       "2                  89                17.7  Developing     62   \n",
       "3                  93                18.0  Developing     67   \n",
       "4                  97                18.2  Developing     68   \n",
       "5                 102                18.4  Developing     66   \n",
       "6                 106                18.7  Developing     63   \n",
       "7                 110                18.9  Developing     64   \n",
       "8                 113                19.1  Developing     63   \n",
       "9                 116                19.3  Developing     58   \n",
       "10                118                19.5  Developing     58   \n",
       "11                120                19.7  Developing      5   \n",
       "12                122                19.9  Developing     41   \n",
       "13                122                 2.2  Developing     36   \n",
       "14                122                 2.4  Developing     35   \n",
       "15                122                 2.5  Developing     24   \n",
       "16                  0                 1.3  Developing     99   \n",
       "17                  1                 1.3  Developing     98   \n",
       "18                  1                 1.4  Developing     99   \n",
       "19                  1                 1.4  Developing     99   \n",
       "\n",
       "    Total expenditure  \n",
       "0                8.16  \n",
       "1                8.18  \n",
       "2                8.13  \n",
       "3                8.52  \n",
       "4                7.87  \n",
       "5                9.20  \n",
       "6                9.42  \n",
       "7                8.33  \n",
       "8                6.73  \n",
       "9                7.43  \n",
       "10               8.70  \n",
       "11               8.79  \n",
       "12               8.82  \n",
       "13               7.76  \n",
       "14               7.80  \n",
       "15               8.20  \n",
       "16               6.00  \n",
       "17               5.88  \n",
       "18               5.66  \n",
       "19               5.59  "
      ]
     },
     "execution_count": 7,
     "metadata": {},
     "output_type": "execute_result"
    }
   ],
   "source": [
    "df.head(20)"
   ]
  },
  {
   "cell_type": "code",
   "execution_count": 8,
   "metadata": {},
   "outputs": [
    {
     "data": {
      "text/plain": [
       "HIV/AIDS                           float64\n",
       "Income composition of resources    float64\n",
       "Adult mortality                      int64\n",
       "Under-five deaths                    int64\n",
       "Thinness 5-9 years                 float64\n",
       "Status                              object\n",
       "Polio                                int64\n",
       "Total expenditure                  float64\n",
       "dtype: object"
      ]
     },
     "execution_count": 8,
     "metadata": {},
     "output_type": "execute_result"
    }
   ],
   "source": [
    "df.dtypes"
   ]
  },
  {
   "attachments": {},
   "cell_type": "markdown",
   "metadata": {},
   "source": [
    "# Feature engineering"
   ]
  },
  {
   "attachments": {},
   "cell_type": "markdown",
   "metadata": {},
   "source": [
    "We need to perform these things:\n",
    "- Seperate feature and target values\n",
    "- OHE\n",
    "- Train/Test split\n",
    "- Pipeline:\n",
    "    - Scaling\n",
    "    - ML dev"
   ]
  },
  {
   "cell_type": "code",
   "execution_count": 9,
   "metadata": {},
   "outputs": [
    {
     "name": "stdout",
     "output_type": "stream",
     "text": [
      "(2556, 7)\n",
      "(2556, 1)\n"
     ]
    }
   ],
   "source": [
    "#Seperate feature and labels\n",
    "X=df.iloc[:,:-1]\n",
    "y=df.iloc[:,[-1]]\n",
    "print(X.shape)\n",
    "print(y.shape)"
   ]
  },
  {
   "cell_type": "code",
   "execution_count": 10,
   "metadata": {},
   "outputs": [
    {
     "name": "stdout",
     "output_type": "stream",
     "text": [
      "(2556, 8)\n"
     ]
    },
    {
     "data": {
      "text/html": [
       "<div>\n",
       "<style scoped>\n",
       "    .dataframe tbody tr th:only-of-type {\n",
       "        vertical-align: middle;\n",
       "    }\n",
       "\n",
       "    .dataframe tbody tr th {\n",
       "        vertical-align: top;\n",
       "    }\n",
       "\n",
       "    .dataframe thead th {\n",
       "        text-align: right;\n",
       "    }\n",
       "</style>\n",
       "<table border=\"1\" class=\"dataframe\">\n",
       "  <thead>\n",
       "    <tr style=\"text-align: right;\">\n",
       "      <th></th>\n",
       "      <th>HIV/AIDS</th>\n",
       "      <th>Income composition of resources</th>\n",
       "      <th>Adult mortality</th>\n",
       "      <th>Under-five deaths</th>\n",
       "      <th>Thinness 5-9 years</th>\n",
       "      <th>Polio</th>\n",
       "      <th>Status_Developed</th>\n",
       "      <th>Status_Developing</th>\n",
       "    </tr>\n",
       "  </thead>\n",
       "  <tbody>\n",
       "    <tr>\n",
       "      <th>0</th>\n",
       "      <td>0.1</td>\n",
       "      <td>0.479</td>\n",
       "      <td>263</td>\n",
       "      <td>83</td>\n",
       "      <td>17.3</td>\n",
       "      <td>6</td>\n",
       "      <td>0</td>\n",
       "      <td>1</td>\n",
       "    </tr>\n",
       "    <tr>\n",
       "      <th>1</th>\n",
       "      <td>0.1</td>\n",
       "      <td>0.476</td>\n",
       "      <td>271</td>\n",
       "      <td>86</td>\n",
       "      <td>17.5</td>\n",
       "      <td>58</td>\n",
       "      <td>0</td>\n",
       "      <td>1</td>\n",
       "    </tr>\n",
       "    <tr>\n",
       "      <th>2</th>\n",
       "      <td>0.1</td>\n",
       "      <td>0.470</td>\n",
       "      <td>268</td>\n",
       "      <td>89</td>\n",
       "      <td>17.7</td>\n",
       "      <td>62</td>\n",
       "      <td>0</td>\n",
       "      <td>1</td>\n",
       "    </tr>\n",
       "    <tr>\n",
       "      <th>3</th>\n",
       "      <td>0.1</td>\n",
       "      <td>0.463</td>\n",
       "      <td>272</td>\n",
       "      <td>93</td>\n",
       "      <td>18.0</td>\n",
       "      <td>67</td>\n",
       "      <td>0</td>\n",
       "      <td>1</td>\n",
       "    </tr>\n",
       "    <tr>\n",
       "      <th>4</th>\n",
       "      <td>0.1</td>\n",
       "      <td>0.454</td>\n",
       "      <td>275</td>\n",
       "      <td>97</td>\n",
       "      <td>18.2</td>\n",
       "      <td>68</td>\n",
       "      <td>0</td>\n",
       "      <td>1</td>\n",
       "    </tr>\n",
       "  </tbody>\n",
       "</table>\n",
       "</div>"
      ],
      "text/plain": [
       "   HIV/AIDS  Income composition of resources  Adult mortality  \\\n",
       "0       0.1                            0.479              263   \n",
       "1       0.1                            0.476              271   \n",
       "2       0.1                            0.470              268   \n",
       "3       0.1                            0.463              272   \n",
       "4       0.1                            0.454              275   \n",
       "\n",
       "   Under-five deaths  Thinness 5-9 years  Polio  Status_Developed  \\\n",
       "0                 83                17.3      6                 0   \n",
       "1                 86                17.5     58                 0   \n",
       "2                 89                17.7     62                 0   \n",
       "3                 93                18.0     67                 0   \n",
       "4                 97                18.2     68                 0   \n",
       "\n",
       "   Status_Developing  \n",
       "0                  1  \n",
       "1                  1  \n",
       "2                  1  \n",
       "3                  1  \n",
       "4                  1  "
      ]
     },
     "execution_count": 10,
     "metadata": {},
     "output_type": "execute_result"
    }
   ],
   "source": [
    "#Perform OHE\n",
    "X_ohe = pd.get_dummies(X)\n",
    "print(X_ohe.shape)\n",
    "X_ohe.head()"
   ]
  },
  {
   "attachments": {},
   "cell_type": "markdown",
   "metadata": {},
   "source": [
    "# Training via pipelienes"
   ]
  },
  {
   "cell_type": "code",
   "execution_count": 11,
   "metadata": {},
   "outputs": [],
   "source": [
    "#Train/test split\n",
    "from sklearn.model_selection import train_test_split\n",
    "\n",
    "X_train, X_test, y_train, y_test = train_test_split(X_ohe, y, test_size=0.3, random_state=1)"
   ]
  },
  {
   "cell_type": "code",
   "execution_count": 12,
   "metadata": {},
   "outputs": [
    {
     "name": "stdout",
     "output_type": "stream",
     "text": [
      "linreg\n",
      "Pipeline(steps=[('standardscaler', StandardScaler()),\n",
      "                ('linearregression', LinearRegression())])\n",
      "rf\n",
      "Pipeline(steps=[('standardscaler', StandardScaler()),\n",
      "                ('randomforestregressor', RandomForestRegressor())])\n",
      "gb\n",
      "Pipeline(steps=[('standardscaler', StandardScaler()),\n",
      "                ('gradientboostingregressor', GradientBoostingRegressor())])\n"
     ]
    }
   ],
   "source": [
    "#Setup MLDev pipeline\n",
    "from sklearn.pipeline import make_pipeline\n",
    "from sklearn.preprocessing import StandardScaler\n",
    "from sklearn.linear_model import LinearRegression\n",
    "from sklearn.ensemble import RandomForestRegressor, GradientBoostingRegressor\n",
    "\n",
    "mldev_pipeline = {\n",
    "    'linreg': make_pipeline(StandardScaler(), LinearRegression()),\n",
    "    'rf': make_pipeline(StandardScaler(), RandomForestRegressor()),\n",
    "    'gb': make_pipeline(StandardScaler(), GradientBoostingRegressor())\n",
    "}\n",
    "\n",
    "for model_name, pipeline in mldev_pipeline.items():\n",
    "    print(model_name)\n",
    "    print(pipeline)"
   ]
  },
  {
   "cell_type": "code",
   "execution_count": 13,
   "metadata": {},
   "outputs": [
    {
     "data": {
      "text/html": [
       "<style>#sk-container-id-1 {color: black;background-color: white;}#sk-container-id-1 pre{padding: 0;}#sk-container-id-1 div.sk-toggleable {background-color: white;}#sk-container-id-1 label.sk-toggleable__label {cursor: pointer;display: block;width: 100%;margin-bottom: 0;padding: 0.3em;box-sizing: border-box;text-align: center;}#sk-container-id-1 label.sk-toggleable__label-arrow:before {content: \"▸\";float: left;margin-right: 0.25em;color: #696969;}#sk-container-id-1 label.sk-toggleable__label-arrow:hover:before {color: black;}#sk-container-id-1 div.sk-estimator:hover label.sk-toggleable__label-arrow:before {color: black;}#sk-container-id-1 div.sk-toggleable__content {max-height: 0;max-width: 0;overflow: hidden;text-align: left;background-color: #f0f8ff;}#sk-container-id-1 div.sk-toggleable__content pre {margin: 0.2em;color: black;border-radius: 0.25em;background-color: #f0f8ff;}#sk-container-id-1 input.sk-toggleable__control:checked~div.sk-toggleable__content {max-height: 200px;max-width: 100%;overflow: auto;}#sk-container-id-1 input.sk-toggleable__control:checked~label.sk-toggleable__label-arrow:before {content: \"▾\";}#sk-container-id-1 div.sk-estimator input.sk-toggleable__control:checked~label.sk-toggleable__label {background-color: #d4ebff;}#sk-container-id-1 div.sk-label input.sk-toggleable__control:checked~label.sk-toggleable__label {background-color: #d4ebff;}#sk-container-id-1 input.sk-hidden--visually {border: 0;clip: rect(1px 1px 1px 1px);clip: rect(1px, 1px, 1px, 1px);height: 1px;margin: -1px;overflow: hidden;padding: 0;position: absolute;width: 1px;}#sk-container-id-1 div.sk-estimator {font-family: monospace;background-color: #f0f8ff;border: 1px dotted black;border-radius: 0.25em;box-sizing: border-box;margin-bottom: 0.5em;}#sk-container-id-1 div.sk-estimator:hover {background-color: #d4ebff;}#sk-container-id-1 div.sk-parallel-item::after {content: \"\";width: 100%;border-bottom: 1px solid gray;flex-grow: 1;}#sk-container-id-1 div.sk-label:hover label.sk-toggleable__label {background-color: #d4ebff;}#sk-container-id-1 div.sk-serial::before {content: \"\";position: absolute;border-left: 1px solid gray;box-sizing: border-box;top: 0;bottom: 0;left: 50%;z-index: 0;}#sk-container-id-1 div.sk-serial {display: flex;flex-direction: column;align-items: center;background-color: white;padding-right: 0.2em;padding-left: 0.2em;position: relative;}#sk-container-id-1 div.sk-item {position: relative;z-index: 1;}#sk-container-id-1 div.sk-parallel {display: flex;align-items: stretch;justify-content: center;background-color: white;position: relative;}#sk-container-id-1 div.sk-item::before, #sk-container-id-1 div.sk-parallel-item::before {content: \"\";position: absolute;border-left: 1px solid gray;box-sizing: border-box;top: 0;bottom: 0;left: 50%;z-index: -1;}#sk-container-id-1 div.sk-parallel-item {display: flex;flex-direction: column;z-index: 1;position: relative;background-color: white;}#sk-container-id-1 div.sk-parallel-item:first-child::after {align-self: flex-end;width: 50%;}#sk-container-id-1 div.sk-parallel-item:last-child::after {align-self: flex-start;width: 50%;}#sk-container-id-1 div.sk-parallel-item:only-child::after {width: 0;}#sk-container-id-1 div.sk-dashed-wrapped {border: 1px dashed gray;margin: 0 0.4em 0.5em 0.4em;box-sizing: border-box;padding-bottom: 0.4em;background-color: white;}#sk-container-id-1 div.sk-label label {font-family: monospace;font-weight: bold;display: inline-block;line-height: 1.2em;}#sk-container-id-1 div.sk-label-container {text-align: center;}#sk-container-id-1 div.sk-container {/* jupyter's `normalize.less` sets `[hidden] { display: none; }` but bootstrap.min.css set `[hidden] { display: none !important; }` so we also need the `!important` here to be able to override the default hidden behavior on the sphinx rendered scikit-learn.org. See: https://github.com/scikit-learn/scikit-learn/issues/21755 */display: inline-block !important;position: relative;}#sk-container-id-1 div.sk-text-repr-fallback {display: none;}</style><div id=\"sk-container-id-1\" class=\"sk-top-container\"><div class=\"sk-text-repr-fallback\"><pre>Pipeline(steps=[(&#x27;standardscaler&#x27;, StandardScaler()),\n",
       "                (&#x27;linearregression&#x27;, LinearRegression())])</pre><b>In a Jupyter environment, please rerun this cell to show the HTML representation or trust the notebook. <br />On GitHub, the HTML representation is unable to render, please try loading this page with nbviewer.org.</b></div><div class=\"sk-container\" hidden><div class=\"sk-item sk-dashed-wrapped\"><div class=\"sk-label-container\"><div class=\"sk-label sk-toggleable\"><input class=\"sk-toggleable__control sk-hidden--visually\" id=\"sk-estimator-id-1\" type=\"checkbox\" ><label for=\"sk-estimator-id-1\" class=\"sk-toggleable__label sk-toggleable__label-arrow\">Pipeline</label><div class=\"sk-toggleable__content\"><pre>Pipeline(steps=[(&#x27;standardscaler&#x27;, StandardScaler()),\n",
       "                (&#x27;linearregression&#x27;, LinearRegression())])</pre></div></div></div><div class=\"sk-serial\"><div class=\"sk-item\"><div class=\"sk-estimator sk-toggleable\"><input class=\"sk-toggleable__control sk-hidden--visually\" id=\"sk-estimator-id-2\" type=\"checkbox\" ><label for=\"sk-estimator-id-2\" class=\"sk-toggleable__label sk-toggleable__label-arrow\">StandardScaler</label><div class=\"sk-toggleable__content\"><pre>StandardScaler()</pre></div></div></div><div class=\"sk-item\"><div class=\"sk-estimator sk-toggleable\"><input class=\"sk-toggleable__control sk-hidden--visually\" id=\"sk-estimator-id-3\" type=\"checkbox\" ><label for=\"sk-estimator-id-3\" class=\"sk-toggleable__label sk-toggleable__label-arrow\">LinearRegression</label><div class=\"sk-toggleable__content\"><pre>LinearRegression()</pre></div></div></div></div></div></div></div>"
      ],
      "text/plain": [
       "Pipeline(steps=[('standardscaler', StandardScaler()),\n",
       "                ('linearregression', LinearRegression())])"
      ]
     },
     "execution_count": 13,
     "metadata": {},
     "output_type": "execute_result"
    }
   ],
   "source": [
    "#These can also be viewed visually\n",
    "mldev_pipeline['linreg']"
   ]
  },
  {
   "cell_type": "code",
   "execution_count": 14,
   "metadata": {},
   "outputs": [
    {
     "name": "stdout",
     "output_type": "stream",
     "text": [
      "LinReg Params: {'copy_X': True, 'fit_intercept': True, 'n_jobs': None, 'positive': False}\n",
      "RF Params: {'bootstrap': True, 'ccp_alpha': 0.0, 'criterion': 'squared_error', 'max_depth': None, 'max_features': 1.0, 'max_leaf_nodes': None, 'max_samples': None, 'min_impurity_decrease': 0.0, 'min_samples_leaf': 1, 'min_samples_split': 2, 'min_weight_fraction_leaf': 0.0, 'n_estimators': 100, 'n_jobs': None, 'oob_score': False, 'random_state': None, 'verbose': 0, 'warm_start': False}\n",
      "GB Params: {'alpha': 0.9, 'ccp_alpha': 0.0, 'criterion': 'friedman_mse', 'init': None, 'learning_rate': 0.1, 'loss': 'squared_error', 'max_depth': 3, 'max_features': None, 'max_leaf_nodes': None, 'min_impurity_decrease': 0.0, 'min_samples_leaf': 1, 'min_samples_split': 2, 'min_weight_fraction_leaf': 0.0, 'n_estimators': 100, 'n_iter_no_change': None, 'random_state': None, 'subsample': 1.0, 'tol': 0.0001, 'validation_fraction': 0.1, 'verbose': 0, 'warm_start': False}\n"
     ]
    }
   ],
   "source": [
    "#Check the parameters for these models\n",
    "print('LinReg Params:',LinearRegression().get_params())\n",
    "print('RF Params:',RandomForestRegressor().get_params())\n",
    "print('GB Params:',GradientBoostingRegressor().get_params())"
   ]
  },
  {
   "cell_type": "code",
   "execution_count": 15,
   "metadata": {},
   "outputs": [],
   "source": [
    "#Create a grid for hyperparameters tuning\n",
    "hpgrid = {\n",
    "\n",
    "    'linreg':{\n",
    "    },\n",
    "    \n",
    "    'rf':{\n",
    "        'randomforestregressor__n_estimators':[100, 200, 300],\n",
    "        'randomforestregressor__max_depth':[5, 10, 'None']\n",
    "    },\n",
    "\n",
    "    'gb':{\n",
    "        'gradientboostingregressor__n_estimators':[100,200,300],\n",
    "        'gradientboostingregressor__learning_rate':[0.1, 0.2],\n",
    "    }\n",
    "}"
   ]
  },
  {
   "cell_type": "code",
   "execution_count": 16,
   "metadata": {},
   "outputs": [
    {
     "name": "stdout",
     "output_type": "stream",
     "text": [
      "Training model: linreg\n",
      "Training model: rf\n"
     ]
    },
    {
     "name": "stderr",
     "output_type": "stream",
     "text": [
      "/home/hassan101/anaconda3/envs/aws_env/lib/python3.8/site-packages/sklearn/model_selection/_validation.py:378: FitFailedWarning: \n",
      "30 fits failed out of a total of 90.\n",
      "The score on these train-test partitions for these parameters will be set to nan.\n",
      "If these failures are not expected, you can try to debug them by setting error_score='raise'.\n",
      "\n",
      "Below are more details about the failures:\n",
      "--------------------------------------------------------------------------------\n",
      "30 fits failed with the following error:\n",
      "Traceback (most recent call last):\n",
      "  File \"/home/hassan101/anaconda3/envs/aws_env/lib/python3.8/site-packages/sklearn/model_selection/_validation.py\", line 686, in _fit_and_score\n",
      "    estimator.fit(X_train, y_train, **fit_params)\n",
      "  File \"/home/hassan101/anaconda3/envs/aws_env/lib/python3.8/site-packages/sklearn/pipeline.py\", line 406, in fit\n",
      "    self._final_estimator.fit(Xt, y, **fit_params_last_step)\n",
      "  File \"/home/hassan101/anaconda3/envs/aws_env/lib/python3.8/site-packages/sklearn/ensemble/_forest.py\", line 341, in fit\n",
      "    self._validate_params()\n",
      "  File \"/home/hassan101/anaconda3/envs/aws_env/lib/python3.8/site-packages/sklearn/base.py\", line 570, in _validate_params\n",
      "    validate_parameter_constraints(\n",
      "  File \"/home/hassan101/anaconda3/envs/aws_env/lib/python3.8/site-packages/sklearn/utils/_param_validation.py\", line 97, in validate_parameter_constraints\n",
      "    raise InvalidParameterError(\n",
      "sklearn.utils._param_validation.InvalidParameterError: The 'max_depth' parameter of RandomForestRegressor must be an int in the range [1, inf) or None. Got 'None' instead.\n",
      "\n",
      "  warnings.warn(some_fits_failed_message, FitFailedWarning)\n",
      "/home/hassan101/anaconda3/envs/aws_env/lib/python3.8/site-packages/sklearn/model_selection/_search.py:953: UserWarning: One or more of the test scores are non-finite: [0.24632358 0.24880539 0.24359186 0.36534252 0.37506112 0.3791986\n",
      "        nan        nan        nan]\n",
      "  warnings.warn(\n"
     ]
    },
    {
     "name": "stdout",
     "output_type": "stream",
     "text": [
      "Training model: gb\n"
     ]
    },
    {
     "data": {
      "text/plain": [
       "{'linreg': GridSearchCV(cv=10,\n",
       "              estimator=Pipeline(steps=[('standardscaler', StandardScaler()),\n",
       "                                        ('linearregression',\n",
       "                                         LinearRegression())]),\n",
       "              n_jobs=-1, param_grid={}),\n",
       " 'rf': GridSearchCV(cv=10,\n",
       "              estimator=Pipeline(steps=[('standardscaler', StandardScaler()),\n",
       "                                        ('randomforestregressor',\n",
       "                                         RandomForestRegressor())]),\n",
       "              n_jobs=-1,\n",
       "              param_grid={'randomforestregressor__max_depth': [5, 10, 'None'],\n",
       "                          'randomforestregressor__n_estimators': [100, 200,\n",
       "                                                                  300]}),\n",
       " 'gb': GridSearchCV(cv=10,\n",
       "              estimator=Pipeline(steps=[('standardscaler', StandardScaler()),\n",
       "                                        ('gradientboostingregressor',\n",
       "                                         GradientBoostingRegressor())]),\n",
       "              n_jobs=-1,\n",
       "              param_grid={'gradientboostingregressor__learning_rate': [0.1, 0.2],\n",
       "                          'gradientboostingregressor__n_estimators': [100, 200,\n",
       "                                                                      300]})}"
      ]
     },
     "execution_count": 16,
     "metadata": {},
     "output_type": "execute_result"
    }
   ],
   "source": [
    "#Training the models by looping across pipeline\n",
    "from sklearn.model_selection import GridSearchCV\n",
    "\n",
    "trained_models = {}\n",
    "for model_name, pipeline in mldev_pipeline.items():\n",
    "    #Train using CV class\n",
    "    print(f'Training model: {model_name}')\n",
    "    model = GridSearchCV(pipeline, hpgrid[model_name], n_jobs = -1, cv = 10) #n_jobs = -1 will use all processors for parallel computing\n",
    "    model.fit(X_train, y_train.values.ravel())\n",
    "    trained_models[model_name] = model\n",
    "\n",
    "trained_models"
   ]
  },
  {
   "cell_type": "code",
   "execution_count": 17,
   "metadata": {},
   "outputs": [
    {
     "name": "stdout",
     "output_type": "stream",
     "text": [
      "Metrics for linreg: MAE= 1.6699640111064518 RMSE= 2.1968312349736343 R2= 0.13169417409574824\n",
      "Metrics for rf: MAE= 1.0621750251522155 RMSE= 1.6039309463401947 R2= 0.5371389258831972\n",
      "Metrics for gb: MAE= 1.2197518776401972 RMSE= 1.7709936891417217 R2= 0.4356957092332724\n"
     ]
    }
   ],
   "source": [
    "# Check metrics\n",
    "from sklearn.metrics import mean_absolute_error, mean_squared_error,r2_score\n",
    "\n",
    "for model_name, model in trained_models.items():\n",
    "    y_hat = model.predict(X_test)\n",
    "    print(f'Metrics for {model_name}:',\n",
    "    'MAE=', mean_absolute_error(y_test,y_hat),\n",
    "    'RMSE=', mean_squared_error(y_test,y_hat, squared=False),\n",
    "    'R2=', r2_score(y_test,y_hat)    \n",
    "    )"
   ]
  },
  {
   "cell_type": "code",
   "execution_count": 18,
   "metadata": {},
   "outputs": [
    {
     "data": {
      "text/plain": [
       "{'cv': 10,\n",
       " 'error_score': nan,\n",
       " 'estimator__memory': None,\n",
       " 'estimator__steps': [('standardscaler', StandardScaler()),\n",
       "  ('randomforestregressor', RandomForestRegressor())],\n",
       " 'estimator__verbose': False,\n",
       " 'estimator__standardscaler': StandardScaler(),\n",
       " 'estimator__randomforestregressor': RandomForestRegressor(),\n",
       " 'estimator__standardscaler__copy': True,\n",
       " 'estimator__standardscaler__with_mean': True,\n",
       " 'estimator__standardscaler__with_std': True,\n",
       " 'estimator__randomforestregressor__bootstrap': True,\n",
       " 'estimator__randomforestregressor__ccp_alpha': 0.0,\n",
       " 'estimator__randomforestregressor__criterion': 'squared_error',\n",
       " 'estimator__randomforestregressor__max_depth': None,\n",
       " 'estimator__randomforestregressor__max_features': 1.0,\n",
       " 'estimator__randomforestregressor__max_leaf_nodes': None,\n",
       " 'estimator__randomforestregressor__max_samples': None,\n",
       " 'estimator__randomforestregressor__min_impurity_decrease': 0.0,\n",
       " 'estimator__randomforestregressor__min_samples_leaf': 1,\n",
       " 'estimator__randomforestregressor__min_samples_split': 2,\n",
       " 'estimator__randomforestregressor__min_weight_fraction_leaf': 0.0,\n",
       " 'estimator__randomforestregressor__n_estimators': 100,\n",
       " 'estimator__randomforestregressor__n_jobs': None,\n",
       " 'estimator__randomforestregressor__oob_score': False,\n",
       " 'estimator__randomforestregressor__random_state': None,\n",
       " 'estimator__randomforestregressor__verbose': 0,\n",
       " 'estimator__randomforestregressor__warm_start': False,\n",
       " 'estimator': Pipeline(steps=[('standardscaler', StandardScaler()),\n",
       "                 ('randomforestregressor', RandomForestRegressor())]),\n",
       " 'n_jobs': -1,\n",
       " 'param_grid': {'randomforestregressor__n_estimators': [100, 200, 300],\n",
       "  'randomforestregressor__max_depth': [5, 10, 'None']},\n",
       " 'pre_dispatch': '2*n_jobs',\n",
       " 'refit': True,\n",
       " 'return_train_score': False,\n",
       " 'scoring': None,\n",
       " 'verbose': 0}"
      ]
     },
     "execution_count": 18,
     "metadata": {},
     "output_type": "execute_result"
    }
   ],
   "source": [
    "#Checking parameters for the best model\n",
    "trained_models['rf'].get_params()"
   ]
  },
  {
   "cell_type": "code",
   "execution_count": 19,
   "metadata": {},
   "outputs": [],
   "source": [
    "# Saving best model\n",
    "import pickle\n",
    "with open('bestmodel.pkl', 'wb') as f:\n",
    "    pickle.dump(trained_models['rf'], f)"
   ]
  },
  {
   "cell_type": "code",
   "execution_count": 20,
   "metadata": {},
   "outputs": [
    {
     "data": {
      "text/html": [
       "<style>#sk-container-id-2 {color: black;background-color: white;}#sk-container-id-2 pre{padding: 0;}#sk-container-id-2 div.sk-toggleable {background-color: white;}#sk-container-id-2 label.sk-toggleable__label {cursor: pointer;display: block;width: 100%;margin-bottom: 0;padding: 0.3em;box-sizing: border-box;text-align: center;}#sk-container-id-2 label.sk-toggleable__label-arrow:before {content: \"▸\";float: left;margin-right: 0.25em;color: #696969;}#sk-container-id-2 label.sk-toggleable__label-arrow:hover:before {color: black;}#sk-container-id-2 div.sk-estimator:hover label.sk-toggleable__label-arrow:before {color: black;}#sk-container-id-2 div.sk-toggleable__content {max-height: 0;max-width: 0;overflow: hidden;text-align: left;background-color: #f0f8ff;}#sk-container-id-2 div.sk-toggleable__content pre {margin: 0.2em;color: black;border-radius: 0.25em;background-color: #f0f8ff;}#sk-container-id-2 input.sk-toggleable__control:checked~div.sk-toggleable__content {max-height: 200px;max-width: 100%;overflow: auto;}#sk-container-id-2 input.sk-toggleable__control:checked~label.sk-toggleable__label-arrow:before {content: \"▾\";}#sk-container-id-2 div.sk-estimator input.sk-toggleable__control:checked~label.sk-toggleable__label {background-color: #d4ebff;}#sk-container-id-2 div.sk-label input.sk-toggleable__control:checked~label.sk-toggleable__label {background-color: #d4ebff;}#sk-container-id-2 input.sk-hidden--visually {border: 0;clip: rect(1px 1px 1px 1px);clip: rect(1px, 1px, 1px, 1px);height: 1px;margin: -1px;overflow: hidden;padding: 0;position: absolute;width: 1px;}#sk-container-id-2 div.sk-estimator {font-family: monospace;background-color: #f0f8ff;border: 1px dotted black;border-radius: 0.25em;box-sizing: border-box;margin-bottom: 0.5em;}#sk-container-id-2 div.sk-estimator:hover {background-color: #d4ebff;}#sk-container-id-2 div.sk-parallel-item::after {content: \"\";width: 100%;border-bottom: 1px solid gray;flex-grow: 1;}#sk-container-id-2 div.sk-label:hover label.sk-toggleable__label {background-color: #d4ebff;}#sk-container-id-2 div.sk-serial::before {content: \"\";position: absolute;border-left: 1px solid gray;box-sizing: border-box;top: 0;bottom: 0;left: 50%;z-index: 0;}#sk-container-id-2 div.sk-serial {display: flex;flex-direction: column;align-items: center;background-color: white;padding-right: 0.2em;padding-left: 0.2em;position: relative;}#sk-container-id-2 div.sk-item {position: relative;z-index: 1;}#sk-container-id-2 div.sk-parallel {display: flex;align-items: stretch;justify-content: center;background-color: white;position: relative;}#sk-container-id-2 div.sk-item::before, #sk-container-id-2 div.sk-parallel-item::before {content: \"\";position: absolute;border-left: 1px solid gray;box-sizing: border-box;top: 0;bottom: 0;left: 50%;z-index: -1;}#sk-container-id-2 div.sk-parallel-item {display: flex;flex-direction: column;z-index: 1;position: relative;background-color: white;}#sk-container-id-2 div.sk-parallel-item:first-child::after {align-self: flex-end;width: 50%;}#sk-container-id-2 div.sk-parallel-item:last-child::after {align-self: flex-start;width: 50%;}#sk-container-id-2 div.sk-parallel-item:only-child::after {width: 0;}#sk-container-id-2 div.sk-dashed-wrapped {border: 1px dashed gray;margin: 0 0.4em 0.5em 0.4em;box-sizing: border-box;padding-bottom: 0.4em;background-color: white;}#sk-container-id-2 div.sk-label label {font-family: monospace;font-weight: bold;display: inline-block;line-height: 1.2em;}#sk-container-id-2 div.sk-label-container {text-align: center;}#sk-container-id-2 div.sk-container {/* jupyter's `normalize.less` sets `[hidden] { display: none; }` but bootstrap.min.css set `[hidden] { display: none !important; }` so we also need the `!important` here to be able to override the default hidden behavior on the sphinx rendered scikit-learn.org. See: https://github.com/scikit-learn/scikit-learn/issues/21755 */display: inline-block !important;position: relative;}#sk-container-id-2 div.sk-text-repr-fallback {display: none;}</style><div id=\"sk-container-id-2\" class=\"sk-top-container\"><div class=\"sk-text-repr-fallback\"><pre>GridSearchCV(cv=10,\n",
       "             estimator=Pipeline(steps=[(&#x27;standardscaler&#x27;, StandardScaler()),\n",
       "                                       (&#x27;randomforestregressor&#x27;,\n",
       "                                        RandomForestRegressor())]),\n",
       "             n_jobs=-1,\n",
       "             param_grid={&#x27;randomforestregressor__max_depth&#x27;: [5, 10, &#x27;None&#x27;],\n",
       "                         &#x27;randomforestregressor__n_estimators&#x27;: [100, 200,\n",
       "                                                                 300]})</pre><b>In a Jupyter environment, please rerun this cell to show the HTML representation or trust the notebook. <br />On GitHub, the HTML representation is unable to render, please try loading this page with nbviewer.org.</b></div><div class=\"sk-container\" hidden><div class=\"sk-item sk-dashed-wrapped\"><div class=\"sk-label-container\"><div class=\"sk-label sk-toggleable\"><input class=\"sk-toggleable__control sk-hidden--visually\" id=\"sk-estimator-id-4\" type=\"checkbox\" ><label for=\"sk-estimator-id-4\" class=\"sk-toggleable__label sk-toggleable__label-arrow\">GridSearchCV</label><div class=\"sk-toggleable__content\"><pre>GridSearchCV(cv=10,\n",
       "             estimator=Pipeline(steps=[(&#x27;standardscaler&#x27;, StandardScaler()),\n",
       "                                       (&#x27;randomforestregressor&#x27;,\n",
       "                                        RandomForestRegressor())]),\n",
       "             n_jobs=-1,\n",
       "             param_grid={&#x27;randomforestregressor__max_depth&#x27;: [5, 10, &#x27;None&#x27;],\n",
       "                         &#x27;randomforestregressor__n_estimators&#x27;: [100, 200,\n",
       "                                                                 300]})</pre></div></div></div><div class=\"sk-parallel\"><div class=\"sk-parallel-item\"><div class=\"sk-item\"><div class=\"sk-label-container\"><div class=\"sk-label sk-toggleable\"><input class=\"sk-toggleable__control sk-hidden--visually\" id=\"sk-estimator-id-5\" type=\"checkbox\" ><label for=\"sk-estimator-id-5\" class=\"sk-toggleable__label sk-toggleable__label-arrow\">estimator: Pipeline</label><div class=\"sk-toggleable__content\"><pre>Pipeline(steps=[(&#x27;standardscaler&#x27;, StandardScaler()),\n",
       "                (&#x27;randomforestregressor&#x27;, RandomForestRegressor())])</pre></div></div></div><div class=\"sk-serial\"><div class=\"sk-item\"><div class=\"sk-serial\"><div class=\"sk-item\"><div class=\"sk-estimator sk-toggleable\"><input class=\"sk-toggleable__control sk-hidden--visually\" id=\"sk-estimator-id-6\" type=\"checkbox\" ><label for=\"sk-estimator-id-6\" class=\"sk-toggleable__label sk-toggleable__label-arrow\">StandardScaler</label><div class=\"sk-toggleable__content\"><pre>StandardScaler()</pre></div></div></div><div class=\"sk-item\"><div class=\"sk-estimator sk-toggleable\"><input class=\"sk-toggleable__control sk-hidden--visually\" id=\"sk-estimator-id-7\" type=\"checkbox\" ><label for=\"sk-estimator-id-7\" class=\"sk-toggleable__label sk-toggleable__label-arrow\">RandomForestRegressor</label><div class=\"sk-toggleable__content\"><pre>RandomForestRegressor()</pre></div></div></div></div></div></div></div></div></div></div></div></div>"
      ],
      "text/plain": [
       "GridSearchCV(cv=10,\n",
       "             estimator=Pipeline(steps=[('standardscaler', StandardScaler()),\n",
       "                                       ('randomforestregressor',\n",
       "                                        RandomForestRegressor())]),\n",
       "             n_jobs=-1,\n",
       "             param_grid={'randomforestregressor__max_depth': [5, 10, 'None'],\n",
       "                         'randomforestregressor__n_estimators': [100, 200,\n",
       "                                                                 300]})"
      ]
     },
     "execution_count": 20,
     "metadata": {},
     "output_type": "execute_result"
    }
   ],
   "source": [
    "#If we need to reload the model in future, we can use this code\n",
    "with open('bestmodel.pkl', 'rb') as f:\n",
    "    reloaded_model = pickle.load(f)\n",
    "\n",
    "reloaded_model"
   ]
  },
  {
   "cell_type": "markdown",
   "metadata": {},
   "source": [
    "# Training from scratch"
   ]
  },
  {
   "cell_type": "code",
   "execution_count": 21,
   "metadata": {},
   "outputs": [],
   "source": [
    "#Train/test split\n",
    "from sklearn.model_selection import train_test_split\n",
    "\n",
    "X_train, X_test, y_train, y_test = train_test_split(X_ohe, y, test_size=0.3, random_state=1)"
   ]
  },
  {
   "cell_type": "code",
   "execution_count": 22,
   "metadata": {},
   "outputs": [
    {
     "data": {
      "text/html": [
       "<style>#sk-container-id-3 {color: black;background-color: white;}#sk-container-id-3 pre{padding: 0;}#sk-container-id-3 div.sk-toggleable {background-color: white;}#sk-container-id-3 label.sk-toggleable__label {cursor: pointer;display: block;width: 100%;margin-bottom: 0;padding: 0.3em;box-sizing: border-box;text-align: center;}#sk-container-id-3 label.sk-toggleable__label-arrow:before {content: \"▸\";float: left;margin-right: 0.25em;color: #696969;}#sk-container-id-3 label.sk-toggleable__label-arrow:hover:before {color: black;}#sk-container-id-3 div.sk-estimator:hover label.sk-toggleable__label-arrow:before {color: black;}#sk-container-id-3 div.sk-toggleable__content {max-height: 0;max-width: 0;overflow: hidden;text-align: left;background-color: #f0f8ff;}#sk-container-id-3 div.sk-toggleable__content pre {margin: 0.2em;color: black;border-radius: 0.25em;background-color: #f0f8ff;}#sk-container-id-3 input.sk-toggleable__control:checked~div.sk-toggleable__content {max-height: 200px;max-width: 100%;overflow: auto;}#sk-container-id-3 input.sk-toggleable__control:checked~label.sk-toggleable__label-arrow:before {content: \"▾\";}#sk-container-id-3 div.sk-estimator input.sk-toggleable__control:checked~label.sk-toggleable__label {background-color: #d4ebff;}#sk-container-id-3 div.sk-label input.sk-toggleable__control:checked~label.sk-toggleable__label {background-color: #d4ebff;}#sk-container-id-3 input.sk-hidden--visually {border: 0;clip: rect(1px 1px 1px 1px);clip: rect(1px, 1px, 1px, 1px);height: 1px;margin: -1px;overflow: hidden;padding: 0;position: absolute;width: 1px;}#sk-container-id-3 div.sk-estimator {font-family: monospace;background-color: #f0f8ff;border: 1px dotted black;border-radius: 0.25em;box-sizing: border-box;margin-bottom: 0.5em;}#sk-container-id-3 div.sk-estimator:hover {background-color: #d4ebff;}#sk-container-id-3 div.sk-parallel-item::after {content: \"\";width: 100%;border-bottom: 1px solid gray;flex-grow: 1;}#sk-container-id-3 div.sk-label:hover label.sk-toggleable__label {background-color: #d4ebff;}#sk-container-id-3 div.sk-serial::before {content: \"\";position: absolute;border-left: 1px solid gray;box-sizing: border-box;top: 0;bottom: 0;left: 50%;z-index: 0;}#sk-container-id-3 div.sk-serial {display: flex;flex-direction: column;align-items: center;background-color: white;padding-right: 0.2em;padding-left: 0.2em;position: relative;}#sk-container-id-3 div.sk-item {position: relative;z-index: 1;}#sk-container-id-3 div.sk-parallel {display: flex;align-items: stretch;justify-content: center;background-color: white;position: relative;}#sk-container-id-3 div.sk-item::before, #sk-container-id-3 div.sk-parallel-item::before {content: \"\";position: absolute;border-left: 1px solid gray;box-sizing: border-box;top: 0;bottom: 0;left: 50%;z-index: -1;}#sk-container-id-3 div.sk-parallel-item {display: flex;flex-direction: column;z-index: 1;position: relative;background-color: white;}#sk-container-id-3 div.sk-parallel-item:first-child::after {align-self: flex-end;width: 50%;}#sk-container-id-3 div.sk-parallel-item:last-child::after {align-self: flex-start;width: 50%;}#sk-container-id-3 div.sk-parallel-item:only-child::after {width: 0;}#sk-container-id-3 div.sk-dashed-wrapped {border: 1px dashed gray;margin: 0 0.4em 0.5em 0.4em;box-sizing: border-box;padding-bottom: 0.4em;background-color: white;}#sk-container-id-3 div.sk-label label {font-family: monospace;font-weight: bold;display: inline-block;line-height: 1.2em;}#sk-container-id-3 div.sk-label-container {text-align: center;}#sk-container-id-3 div.sk-container {/* jupyter's `normalize.less` sets `[hidden] { display: none; }` but bootstrap.min.css set `[hidden] { display: none !important; }` so we also need the `!important` here to be able to override the default hidden behavior on the sphinx rendered scikit-learn.org. See: https://github.com/scikit-learn/scikit-learn/issues/21755 */display: inline-block !important;position: relative;}#sk-container-id-3 div.sk-text-repr-fallback {display: none;}</style><div id=\"sk-container-id-3\" class=\"sk-top-container\"><div class=\"sk-text-repr-fallback\"><pre>StandardScaler()</pre><b>In a Jupyter environment, please rerun this cell to show the HTML representation or trust the notebook. <br />On GitHub, the HTML representation is unable to render, please try loading this page with nbviewer.org.</b></div><div class=\"sk-container\" hidden><div class=\"sk-item\"><div class=\"sk-estimator sk-toggleable\"><input class=\"sk-toggleable__control sk-hidden--visually\" id=\"sk-estimator-id-8\" type=\"checkbox\" checked><label for=\"sk-estimator-id-8\" class=\"sk-toggleable__label sk-toggleable__label-arrow\">StandardScaler</label><div class=\"sk-toggleable__content\"><pre>StandardScaler()</pre></div></div></div></div></div>"
      ],
      "text/plain": [
       "StandardScaler()"
      ]
     },
     "execution_count": 22,
     "metadata": {},
     "output_type": "execute_result"
    }
   ],
   "source": [
    "#Scaling\n",
    "from sklearn.preprocessing import StandardScaler\n",
    "scaler = StandardScaler()\n",
    "scaler.fit(X_train)"
   ]
  },
  {
   "cell_type": "code",
   "execution_count": 23,
   "metadata": {},
   "outputs": [
    {
     "data": {
      "text/plain": [
       "array([0.3160904 , 0.43213795, 0.45342015, 0.35091713, 0.47805585,\n",
       "       0.40541307, 0.34533833, 0.51401332, 0.33331332, 0.40913256])"
      ]
     },
     "execution_count": 23,
     "metadata": {},
     "output_type": "execute_result"
    }
   ],
   "source": [
    "from sklearn.ensemble import RandomForestRegressor\n",
    "from sklearn.model_selection import cross_val_score\n",
    "\n",
    "rfreg = RandomForestRegressor()\n",
    "rfreg.fit(scaler.transform(X_train), y_train.values.ravel())\n",
    "scores = cross_val_score(rfreg, scaler.transform(X_train), y_train.values.ravel(), cv=10)\n",
    "scores"
   ]
  },
  {
   "cell_type": "code",
   "execution_count": 24,
   "metadata": {},
   "outputs": [
    {
     "name": "stdout",
     "output_type": "stream",
     "text": [
      "MAE= 0.918800912646675 RMSE= 1.4998270149841082 R2= 0.5952734741666235\n"
     ]
    }
   ],
   "source": [
    "# Check metrics\n",
    "from sklearn.metrics import mean_absolute_error, mean_squared_error,r2_score\n",
    "y_hat = rfreg.predict(scaler.transform(X_test))\n",
    "print('MAE=', mean_absolute_error(y_test,y_hat),\n",
    "'RMSE=', mean_squared_error(y_test,y_hat, squared=False),\n",
    "'R2=', r2_score(y_test,y_hat)\n",
    ")"
   ]
  },
  {
   "cell_type": "code",
   "execution_count": 25,
   "metadata": {},
   "outputs": [
    {
     "data": {
      "text/plain": [
       "0.5910019541050575"
      ]
     },
     "execution_count": 25,
     "metadata": {},
     "output_type": "execute_result"
    }
   ],
   "source": [
    "r2_adj = 1 - (1-r2_score(y_test,y_hat))*(len(y_hat)-1)/(len(y_hat)-len(X_test.columns)-1)\n",
    "r2_adj"
   ]
  },
  {
   "cell_type": "code",
   "execution_count": 26,
   "metadata": {},
   "outputs": [
    {
     "data": {
      "text/plain": [
       "{'bootstrap': True,\n",
       " 'ccp_alpha': 0.0,\n",
       " 'criterion': 'squared_error',\n",
       " 'max_depth': None,\n",
       " 'max_features': 1.0,\n",
       " 'max_leaf_nodes': None,\n",
       " 'max_samples': None,\n",
       " 'min_impurity_decrease': 0.0,\n",
       " 'min_samples_leaf': 1,\n",
       " 'min_samples_split': 2,\n",
       " 'min_weight_fraction_leaf': 0.0,\n",
       " 'n_estimators': 100,\n",
       " 'n_jobs': None,\n",
       " 'oob_score': False,\n",
       " 'random_state': None,\n",
       " 'verbose': 0,\n",
       " 'warm_start': False}"
      ]
     },
     "execution_count": 26,
     "metadata": {},
     "output_type": "execute_result"
    }
   ],
   "source": [
    "rfreg.get_params()"
   ]
  },
  {
   "cell_type": "code",
   "execution_count": 27,
   "metadata": {},
   "outputs": [],
   "source": [
    "# Saving model\n",
    "import pickle\n",
    "#with open('model_fromscratch.pkl', 'wb') as f:\n",
    "#    pickle.dump(rfreg, f)\n",
    "\n",
    "pickle.dump(rfreg, open('model_fromscratch.pkl', 'wb'))"
   ]
  },
  {
   "cell_type": "code",
   "execution_count": 28,
   "metadata": {},
   "outputs": [],
   "source": [
    "# Saving standardization params\n",
    "pickle.dump(scaler, open('scaling.pkl','wb'))"
   ]
  },
  {
   "cell_type": "code",
   "execution_count": 29,
   "metadata": {},
   "outputs": [
    {
     "name": "stdout",
     "output_type": "stream",
     "text": [
      "----------------------------------------------------------\n",
      "Random state for split= 0\n",
      "[0.63390527 0.50363036 0.4668265  0.55435362 0.34540852 0.29501286\n",
      " 0.5233687  0.50909662 0.60969072 0.53126019]\n",
      "MAE= 0.9405121284224248 RMSE= 1.5605106273754652 R2= 0.5505670206564268\n",
      "----------------------------------------------------------\n",
      "Random state for split= 1\n",
      "[0.32683098 0.43741507 0.44623067 0.31741862 0.46476085 0.40161318\n",
      " 0.36790064 0.47739929 0.3213069  0.43278854]\n",
      "MAE= 0.9126994784876139 RMSE= 1.5067719612450527 R2= 0.5915166253360822\n",
      "----------------------------------------------------------\n",
      "Random state for split= 2\n",
      "[0.51949043 0.57196614 0.28127394 0.62802806 0.48473538 0.41240977\n",
      " 0.45231314 0.30397499 0.45694281 0.317379  ]\n",
      "MAE= 1.0887509604519774 RMSE= 1.7937388776537213 R2= 0.4821057564060963\n",
      "----------------------------------------------------------\n",
      "Random state for split= 3\n",
      "[0.38242318 0.36183123 0.34799528 0.5301395  0.58604655 0.72838879\n",
      " 0.38898216 0.49630862 0.43590625 0.47876187]\n",
      "MAE= 0.9896454864344696 RMSE= 1.7008464083536976 R2= 0.48603390869870944\n",
      "----------------------------------------------------------\n",
      "Random state for split= 4\n",
      "[0.53927869 0.35587749 0.37578667 0.66062037 0.55634006 0.3069877\n",
      " 0.59659072 0.57053456 0.38222401 0.43240421]\n",
      "MAE= 0.9981952411994787 RMSE= 1.6850320973846895 R2= 0.4994114470431653\n",
      "----------------------------------------------------------\n",
      "Random state for split= 5\n",
      "[0.24977572 0.44171636 0.6337236  0.54061892 0.6256011  0.4178676\n",
      " 0.58654598 0.52422607 0.58073966 0.1621089 ]\n",
      "MAE= 0.9710365058670144 RMSE= 1.6224189065219548 R2= 0.49365028776244047\n",
      "----------------------------------------------------------\n",
      "Random state for split= 6\n",
      "[0.41188454 0.45251361 0.55455812 0.34680229 0.36225841 0.55566095\n",
      " 0.46978536 0.67249096 0.48168636 0.52679011]\n",
      "MAE= 1.0705714471968708 RMSE= 1.7703704289167748 R2= 0.45210584432345946\n",
      "----------------------------------------------------------\n",
      "Random state for split= 7\n",
      "[0.5448254  0.48651302 0.50895423 0.48341353 0.5465333  0.40140917\n",
      " 0.52562615 0.41443022 0.52509075 0.49975443]\n",
      "MAE= 0.9873444589308994 RMSE= 1.6627977960457336 R2= 0.49920394972622817\n",
      "----------------------------------------------------------\n",
      "Random state for split= 8\n",
      "[0.46962793 0.48224486 0.41710812 0.46610383 0.37527813 0.57827152\n",
      " 0.3133095  0.52477635 0.42670703 0.51987158]\n",
      "MAE= 0.9272025293350714 RMSE= 1.5373836376061567 R2= 0.567564241893694\n",
      "----------------------------------------------------------\n",
      "Random state for split= 9\n",
      "[0.15026071 0.38450554 0.39413792 0.56785683 0.46310685 0.56033778\n",
      " 0.62453143 0.49470853 0.39679038 0.50977888]\n",
      "MAE= 0.9945932116471102 RMSE= 1.692616882200102 R2= 0.4775397115362432\n"
     ]
    }
   ],
   "source": [
    "#If above training does not work, check optimal train test split by this:\n",
    "\n",
    "for i in range(0,10):\n",
    "    print('----------------------------------------------------------')\n",
    "    print('Random state for split=', i)\n",
    "    X_train, X_test, y_train, y_test = train_test_split(X_ohe, y, test_size=0.3, random_state=i)\n",
    "\n",
    "    scaler = StandardScaler()\n",
    "    scaler.fit(X_train)\n",
    "\n",
    "    rfreg = RandomForestRegressor()\n",
    "    rfreg.fit(scaler.transform(X_train), y_train.values.ravel())\n",
    "    scores = cross_val_score(rfreg, scaler.transform(X_train), y_train.values.ravel(), cv=10)\n",
    "    print(scores)\n",
    "    from sklearn.metrics import mean_absolute_error, mean_squared_error,r2_score\n",
    "    y_hat = rfreg.predict(scaler.transform(X_test))\n",
    "    print('MAE=', mean_absolute_error(y_test,y_hat),\n",
    "    'RMSE=', mean_squared_error(y_test,y_hat, squared=False),\n",
    "    'R2=', r2_score(y_test,y_hat)\n",
    "    )"
   ]
  },
  {
   "attachments": {},
   "cell_type": "markdown",
   "metadata": {},
   "source": [
    "# Plotting the predictions"
   ]
  },
  {
   "cell_type": "code",
   "execution_count": 30,
   "metadata": {},
   "outputs": [
    {
     "data": {
      "text/plain": [
       "Text(0, 0.5, 'Predicted Life Expectancy')"
      ]
     },
     "execution_count": 30,
     "metadata": {},
     "output_type": "execute_result"
    },
    {
     "data": {
      "image/png": "[encoded data removed]",
      "text/plain": [
       "<Figure size 640x480 with 1 Axes>"
      ]
     },
     "metadata": {},
     "output_type": "display_data"
    }
   ],
   "source": [
    "#Plotting parity plot\n",
    "import matplotlib.pyplot as plt\n",
    "%matplotlib inline\n",
    "\n",
    "plt.scatter(y_test, y_hat)\n",
    "plt.plot(y_test,y_test,'k-') \n",
    "plt.xlabel('True Life Expectancy')\n",
    "plt.ylabel('Predicted Life Expectancy')"
   ]
  },
  {
   "cell_type": "code",
   "execution_count": 31,
   "metadata": {},
   "outputs": [
    {
     "data": {
      "text/plain": [
       "Text(0.5, 9.444444444444438, 'Residuals')"
      ]
     },
     "execution_count": 31,
     "metadata": {},
     "output_type": "execute_result"
    },
    {
     "data": {
      "image/png": "[encoded data removed]",
      "text/plain": [
       "<Figure size 500x500 with 1 Axes>"
      ]
     },
     "metadata": {},
     "output_type": "display_data"
    }
   ],
   "source": [
    "#Plotting residuals\n",
    "import seaborn as sns\n",
    "\n",
    "residuals = y_test.values.ravel() - y_hat\n",
    "sns.displot(residuals, kind = 'kde')\n",
    "plt.xlabel('Residuals')"
   ]
  },
  {
   "cell_type": "code",
   "execution_count": 32,
   "metadata": {},
   "outputs": [
    {
     "data": {
      "text/plain": [
       "Text(0, 0.5, 'Residuals')"
      ]
     },
     "execution_count": 32,
     "metadata": {},
     "output_type": "execute_result"
    },
    {
     "data": {
      "image/png": "[encoded data removed]",
      "text/plain": [
       "<Figure size 640x480 with 1 Axes>"
      ]
     },
     "metadata": {},
     "output_type": "display_data"
    }
   ],
   "source": [
    "# Plotting scatter plot for residuals and predictions\n",
    "plt.scatter(y_hat, residuals)\n",
    "plt.xlabel('Predicted Life Expectancy')\n",
    "plt.ylabel('Residuals')"
   ]
  }
 ],
 "metadata": {
  "kernelspec": {
   "display_name": "aws_env",
   "language": "python",
   "name": "python3"
  },
  "language_info": {
   "codemirror_mode": {
    "name": "ipython",
    "version": 3
   },
   "file_extension": ".py",
   "mimetype": "text/x-python",
   "name": "python",
   "nbconvert_exporter": "python",
   "pygments_lexer": "ipython3",
   "version": "3.8.0"
  },
  "orig_nbformat": 4,
  "vscode": {
   "interpreter": {
    "hash": "c52f623ceac37ddf7faf652ecec1076e97b4693849be5fb4832d0833d01e4686"
   }
  }
 },
 "nbformat": 4,
 "nbformat_minor": 2
}
