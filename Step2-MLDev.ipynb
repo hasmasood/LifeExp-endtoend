{
 "cells": [
  {
   "attachments": {},
   "cell_type": "markdown",
   "metadata": {},
   "source": [
    "# Initializing"
   ]
  },
  {
   "cell_type": "code",
   "execution_count": 1,
   "metadata": {},
   "outputs": [
    {
     "name": "stdout",
     "output_type": "stream",
     "text": [
      "     active environment : aws_env\n",
      "    active env location : /home/hassan101/anaconda3/envs/aws_env\n"
     ]
    }
   ],
   "source": [
    "#Active environment should be aws_env\n",
    "!conda info | grep 'active env'"
   ]
  },
  {
   "cell_type": "code",
   "execution_count": 2,
   "metadata": {},
   "outputs": [],
   "source": [
    "#Get AWS credentials from environment\n",
    "import os\n",
    "aws_akid = os.environ['AWS_KID']\n",
    "aws_sak = os.environ['AWS_AK']"
   ]
  },
  {
   "cell_type": "code",
   "execution_count": 3,
   "metadata": {},
   "outputs": [],
   "source": [
    "#Importing libraries\n",
    "import boto3\n",
    "import pandas as pd\n",
    "import io\n",
    "import matplotlib.pyplot as plt\n",
    "import seaborn as sns\n",
    "\n",
    "%matplotlib inline"
   ]
  },
  {
   "attachments": {},
   "cell_type": "markdown",
   "metadata": {},
   "source": [
    "# Getting processed data from S3 bucket"
   ]
  },
  {
   "cell_type": "code",
   "execution_count": 4,
   "metadata": {},
   "outputs": [],
   "source": [
    "#Authentication\n",
    "res_s3 = boto3.resource('s3', aws_access_key_id=aws_akid, aws_secret_access_key= aws_sak)\n",
    "client_s3 = boto3.client('s3', aws_access_key_id=aws_akid, aws_secret_access_key= aws_sak) "
   ]
  },
  {
   "cell_type": "code",
   "execution_count": 5,
   "metadata": {},
   "outputs": [
    {
     "name": "stdout",
     "output_type": "stream",
     "text": [
      "{'Key': 'lifexp-processed.csv', 'LastModified': datetime.datetime(2023, 2, 9, 9, 16, 24, tzinfo=tzutc()), 'ETag': '\"9e138a0af6f65a9b4338da770613527c\"', 'Size': 98812, 'StorageClass': 'STANDARD'}\n"
     ]
    }
   ],
   "source": [
    "# List all objects in bucket\n",
    "bucket_name = 'reg-dataset-processed'\n",
    "\n",
    "response = client_s3.list_objects_v2(Bucket=bucket_name)\n",
    "for obj in response['Contents']:\n",
    "    print(obj)"
   ]
  },
  {
   "cell_type": "code",
   "execution_count": 6,
   "metadata": {},
   "outputs": [
    {
     "name": "stdout",
     "output_type": "stream",
     "text": [
      "Successful S3 get_object response. Status - 200\n"
     ]
    }
   ],
   "source": [
    "response = client_s3.get_object(Bucket=bucket_name, Key=\"lifexp-processed.csv\")\n",
    "\n",
    "status = response.get(\"ResponseMetadata\", {}).get(\"HTTPStatusCode\")\n",
    "\n",
    "if status == 200:\n",
    "    print(f\"Successful S3 get_object response. Status - {status}\")\n",
    "    df = pd.read_csv(response.get(\"Body\"))\n",
    "else:\n",
    "    print(f\"Unsuccessful S3 get_object response. Status - {status}\")"
   ]
  },
  {
   "cell_type": "code",
   "execution_count": 7,
   "metadata": {},
   "outputs": [
    {
     "data": {
      "text/html": [
       "<div>\n",
       "<style scoped>\n",
       "    .dataframe tbody tr th:only-of-type {\n",
       "        vertical-align: middle;\n",
       "    }\n",
       "\n",
       "    .dataframe tbody tr th {\n",
       "        vertical-align: top;\n",
       "    }\n",
       "\n",
       "    .dataframe thead th {\n",
       "        text-align: right;\n",
       "    }\n",
       "</style>\n",
       "<table border=\"1\" class=\"dataframe\">\n",
       "  <thead>\n",
       "    <tr style=\"text-align: right;\">\n",
       "      <th></th>\n",
       "      <th>HIV/AIDS</th>\n",
       "      <th>Income composition of resources</th>\n",
       "      <th>Adult mortality</th>\n",
       "      <th>Under-five deaths</th>\n",
       "      <th>Thinness 5-9 years</th>\n",
       "      <th>Status</th>\n",
       "      <th>Polio</th>\n",
       "      <th>Total expenditure</th>\n",
       "    </tr>\n",
       "  </thead>\n",
       "  <tbody>\n",
       "    <tr>\n",
       "      <th>0</th>\n",
       "      <td>0.1</td>\n",
       "      <td>0.479</td>\n",
       "      <td>263</td>\n",
       "      <td>83</td>\n",
       "      <td>17.3</td>\n",
       "      <td>Developing</td>\n",
       "      <td>6</td>\n",
       "      <td>8.16</td>\n",
       "    </tr>\n",
       "    <tr>\n",
       "      <th>1</th>\n",
       "      <td>0.1</td>\n",
       "      <td>0.476</td>\n",
       "      <td>271</td>\n",
       "      <td>86</td>\n",
       "      <td>17.5</td>\n",
       "      <td>Developing</td>\n",
       "      <td>58</td>\n",
       "      <td>8.18</td>\n",
       "    </tr>\n",
       "    <tr>\n",
       "      <th>2</th>\n",
       "      <td>0.1</td>\n",
       "      <td>0.470</td>\n",
       "      <td>268</td>\n",
       "      <td>89</td>\n",
       "      <td>17.7</td>\n",
       "      <td>Developing</td>\n",
       "      <td>62</td>\n",
       "      <td>8.13</td>\n",
       "    </tr>\n",
       "    <tr>\n",
       "      <th>3</th>\n",
       "      <td>0.1</td>\n",
       "      <td>0.463</td>\n",
       "      <td>272</td>\n",
       "      <td>93</td>\n",
       "      <td>18.0</td>\n",
       "      <td>Developing</td>\n",
       "      <td>67</td>\n",
       "      <td>8.52</td>\n",
       "    </tr>\n",
       "    <tr>\n",
       "      <th>4</th>\n",
       "      <td>0.1</td>\n",
       "      <td>0.454</td>\n",
       "      <td>275</td>\n",
       "      <td>97</td>\n",
       "      <td>18.2</td>\n",
       "      <td>Developing</td>\n",
       "      <td>68</td>\n",
       "      <td>7.87</td>\n",
       "    </tr>\n",
       "    <tr>\n",
       "      <th>5</th>\n",
       "      <td>0.1</td>\n",
       "      <td>0.448</td>\n",
       "      <td>279</td>\n",
       "      <td>102</td>\n",
       "      <td>18.4</td>\n",
       "      <td>Developing</td>\n",
       "      <td>66</td>\n",
       "      <td>9.20</td>\n",
       "    </tr>\n",
       "    <tr>\n",
       "      <th>6</th>\n",
       "      <td>0.1</td>\n",
       "      <td>0.434</td>\n",
       "      <td>281</td>\n",
       "      <td>106</td>\n",
       "      <td>18.7</td>\n",
       "      <td>Developing</td>\n",
       "      <td>63</td>\n",
       "      <td>9.42</td>\n",
       "    </tr>\n",
       "    <tr>\n",
       "      <th>7</th>\n",
       "      <td>0.1</td>\n",
       "      <td>0.433</td>\n",
       "      <td>287</td>\n",
       "      <td>110</td>\n",
       "      <td>18.9</td>\n",
       "      <td>Developing</td>\n",
       "      <td>64</td>\n",
       "      <td>8.33</td>\n",
       "    </tr>\n",
       "    <tr>\n",
       "      <th>8</th>\n",
       "      <td>0.1</td>\n",
       "      <td>0.415</td>\n",
       "      <td>295</td>\n",
       "      <td>113</td>\n",
       "      <td>19.1</td>\n",
       "      <td>Developing</td>\n",
       "      <td>63</td>\n",
       "      <td>6.73</td>\n",
       "    </tr>\n",
       "    <tr>\n",
       "      <th>9</th>\n",
       "      <td>0.1</td>\n",
       "      <td>0.405</td>\n",
       "      <td>295</td>\n",
       "      <td>116</td>\n",
       "      <td>19.3</td>\n",
       "      <td>Developing</td>\n",
       "      <td>58</td>\n",
       "      <td>7.43</td>\n",
       "    </tr>\n",
       "    <tr>\n",
       "      <th>10</th>\n",
       "      <td>0.1</td>\n",
       "      <td>0.396</td>\n",
       "      <td>291</td>\n",
       "      <td>118</td>\n",
       "      <td>19.5</td>\n",
       "      <td>Developing</td>\n",
       "      <td>58</td>\n",
       "      <td>8.70</td>\n",
       "    </tr>\n",
       "    <tr>\n",
       "      <th>11</th>\n",
       "      <td>0.1</td>\n",
       "      <td>0.381</td>\n",
       "      <td>293</td>\n",
       "      <td>120</td>\n",
       "      <td>19.7</td>\n",
       "      <td>Developing</td>\n",
       "      <td>5</td>\n",
       "      <td>8.79</td>\n",
       "    </tr>\n",
       "    <tr>\n",
       "      <th>12</th>\n",
       "      <td>0.1</td>\n",
       "      <td>0.373</td>\n",
       "      <td>295</td>\n",
       "      <td>122</td>\n",
       "      <td>19.9</td>\n",
       "      <td>Developing</td>\n",
       "      <td>41</td>\n",
       "      <td>8.82</td>\n",
       "    </tr>\n",
       "    <tr>\n",
       "      <th>13</th>\n",
       "      <td>0.1</td>\n",
       "      <td>0.341</td>\n",
       "      <td>3</td>\n",
       "      <td>122</td>\n",
       "      <td>2.2</td>\n",
       "      <td>Developing</td>\n",
       "      <td>36</td>\n",
       "      <td>7.76</td>\n",
       "    </tr>\n",
       "    <tr>\n",
       "      <th>14</th>\n",
       "      <td>0.1</td>\n",
       "      <td>0.340</td>\n",
       "      <td>316</td>\n",
       "      <td>122</td>\n",
       "      <td>2.4</td>\n",
       "      <td>Developing</td>\n",
       "      <td>35</td>\n",
       "      <td>7.80</td>\n",
       "    </tr>\n",
       "    <tr>\n",
       "      <th>15</th>\n",
       "      <td>0.1</td>\n",
       "      <td>0.338</td>\n",
       "      <td>321</td>\n",
       "      <td>122</td>\n",
       "      <td>2.5</td>\n",
       "      <td>Developing</td>\n",
       "      <td>24</td>\n",
       "      <td>8.20</td>\n",
       "    </tr>\n",
       "    <tr>\n",
       "      <th>16</th>\n",
       "      <td>0.1</td>\n",
       "      <td>0.762</td>\n",
       "      <td>74</td>\n",
       "      <td>0</td>\n",
       "      <td>1.3</td>\n",
       "      <td>Developing</td>\n",
       "      <td>99</td>\n",
       "      <td>6.00</td>\n",
       "    </tr>\n",
       "    <tr>\n",
       "      <th>17</th>\n",
       "      <td>0.1</td>\n",
       "      <td>0.761</td>\n",
       "      <td>8</td>\n",
       "      <td>1</td>\n",
       "      <td>1.3</td>\n",
       "      <td>Developing</td>\n",
       "      <td>98</td>\n",
       "      <td>5.88</td>\n",
       "    </tr>\n",
       "    <tr>\n",
       "      <th>18</th>\n",
       "      <td>0.1</td>\n",
       "      <td>0.759</td>\n",
       "      <td>84</td>\n",
       "      <td>1</td>\n",
       "      <td>1.4</td>\n",
       "      <td>Developing</td>\n",
       "      <td>99</td>\n",
       "      <td>5.66</td>\n",
       "    </tr>\n",
       "    <tr>\n",
       "      <th>19</th>\n",
       "      <td>0.1</td>\n",
       "      <td>0.752</td>\n",
       "      <td>86</td>\n",
       "      <td>1</td>\n",
       "      <td>1.4</td>\n",
       "      <td>Developing</td>\n",
       "      <td>99</td>\n",
       "      <td>5.59</td>\n",
       "    </tr>\n",
       "  </tbody>\n",
       "</table>\n",
       "</div>"
      ],
      "text/plain": [
       "    HIV/AIDS  Income composition of resources  Adult mortality  \\\n",
       "0        0.1                            0.479              263   \n",
       "1        0.1                            0.476              271   \n",
       "2        0.1                            0.470              268   \n",
       "3        0.1                            0.463              272   \n",
       "4        0.1                            0.454              275   \n",
       "5        0.1                            0.448              279   \n",
       "6        0.1                            0.434              281   \n",
       "7        0.1                            0.433              287   \n",
       "8        0.1                            0.415              295   \n",
       "9        0.1                            0.405              295   \n",
       "10       0.1                            0.396              291   \n",
       "11       0.1                            0.381              293   \n",
       "12       0.1                            0.373              295   \n",
       "13       0.1                            0.341                3   \n",
       "14       0.1                            0.340              316   \n",
       "15       0.1                            0.338              321   \n",
       "16       0.1                            0.762               74   \n",
       "17       0.1                            0.761                8   \n",
       "18       0.1                            0.759               84   \n",
       "19       0.1                            0.752               86   \n",
       "\n",
       "    Under-five deaths  Thinness 5-9 years      Status  Polio  \\\n",
       "0                  83                17.3  Developing      6   \n",
       "1                  86                17.5  Developing     58   \n",
       "2                  89                17.7  Developing     62   \n",
       "3                  93                18.0  Developing     67   \n",
       "4                  97                18.2  Developing     68   \n",
       "5                 102                18.4  Developing     66   \n",
       "6                 106                18.7  Developing     63   \n",
       "7                 110                18.9  Developing     64   \n",
       "8                 113                19.1  Developing     63   \n",
       "9                 116                19.3  Developing     58   \n",
       "10                118                19.5  Developing     58   \n",
       "11                120                19.7  Developing      5   \n",
       "12                122                19.9  Developing     41   \n",
       "13                122                 2.2  Developing     36   \n",
       "14                122                 2.4  Developing     35   \n",
       "15                122                 2.5  Developing     24   \n",
       "16                  0                 1.3  Developing     99   \n",
       "17                  1                 1.3  Developing     98   \n",
       "18                  1                 1.4  Developing     99   \n",
       "19                  1                 1.4  Developing     99   \n",
       "\n",
       "    Total expenditure  \n",
       "0                8.16  \n",
       "1                8.18  \n",
       "2                8.13  \n",
       "3                8.52  \n",
       "4                7.87  \n",
       "5                9.20  \n",
       "6                9.42  \n",
       "7                8.33  \n",
       "8                6.73  \n",
       "9                7.43  \n",
       "10               8.70  \n",
       "11               8.79  \n",
       "12               8.82  \n",
       "13               7.76  \n",
       "14               7.80  \n",
       "15               8.20  \n",
       "16               6.00  \n",
       "17               5.88  \n",
       "18               5.66  \n",
       "19               5.59  "
      ]
     },
     "execution_count": 7,
     "metadata": {},
     "output_type": "execute_result"
    }
   ],
   "source": [
    "df.head(20)"
   ]
  },
  {
   "cell_type": "code",
   "execution_count": 8,
   "metadata": {},
   "outputs": [
    {
     "data": {
      "text/plain": [
       "HIV/AIDS                           float64\n",
       "Income composition of resources    float64\n",
       "Adult mortality                      int64\n",
       "Under-five deaths                    int64\n",
       "Thinness 5-9 years                 float64\n",
       "Status                              object\n",
       "Polio                                int64\n",
       "Total expenditure                  float64\n",
       "dtype: object"
      ]
     },
     "execution_count": 8,
     "metadata": {},
     "output_type": "execute_result"
    }
   ],
   "source": [
    "df.dtypes"
   ]
  },
  {
   "attachments": {},
   "cell_type": "markdown",
   "metadata": {},
   "source": [
    "# Feature engineering"
   ]
  },
  {
   "attachments": {},
   "cell_type": "markdown",
   "metadata": {},
   "source": [
    "We need to perform these things:\n",
    "- Seperate feature and target values\n",
    "- OHE\n",
    "- Train/Test split\n",
    "- Pipeline:\n",
    "    - Scaling\n",
    "    - ML dev"
   ]
  },
  {
   "cell_type": "code",
   "execution_count": 16,
   "metadata": {},
   "outputs": [
    {
     "name": "stdout",
     "output_type": "stream",
     "text": [
      "(2556, 7)\n",
      "(2556, 1)\n"
     ]
    }
   ],
   "source": [
    "#Seperate feature and labels\n",
    "X=df.iloc[:,:-1]\n",
    "y=df.iloc[:,[-1]]\n",
    "print(X.shape)\n",
    "print(y.shape)"
   ]
  },
  {
   "cell_type": "code",
   "execution_count": 17,
   "metadata": {},
   "outputs": [
    {
     "name": "stdout",
     "output_type": "stream",
     "text": [
      "(2556, 8)\n"
     ]
    },
    {
     "data": {
      "text/html": [
       "<div>\n",
       "<style scoped>\n",
       "    .dataframe tbody tr th:only-of-type {\n",
       "        vertical-align: middle;\n",
       "    }\n",
       "\n",
       "    .dataframe tbody tr th {\n",
       "        vertical-align: top;\n",
       "    }\n",
       "\n",
       "    .dataframe thead th {\n",
       "        text-align: right;\n",
       "    }\n",
       "</style>\n",
       "<table border=\"1\" class=\"dataframe\">\n",
       "  <thead>\n",
       "    <tr style=\"text-align: right;\">\n",
       "      <th></th>\n",
       "      <th>HIV/AIDS</th>\n",
       "      <th>Income composition of resources</th>\n",
       "      <th>Adult mortality</th>\n",
       "      <th>Under-five deaths</th>\n",
       "      <th>Thinness 5-9 years</th>\n",
       "      <th>Polio</th>\n",
       "      <th>Status_Developed</th>\n",
       "      <th>Status_Developing</th>\n",
       "    </tr>\n",
       "  </thead>\n",
       "  <tbody>\n",
       "    <tr>\n",
       "      <th>0</th>\n",
       "      <td>0.1</td>\n",
       "      <td>0.479</td>\n",
       "      <td>263</td>\n",
       "      <td>83</td>\n",
       "      <td>17.3</td>\n",
       "      <td>6</td>\n",
       "      <td>0</td>\n",
       "      <td>1</td>\n",
       "    </tr>\n",
       "    <tr>\n",
       "      <th>1</th>\n",
       "      <td>0.1</td>\n",
       "      <td>0.476</td>\n",
       "      <td>271</td>\n",
       "      <td>86</td>\n",
       "      <td>17.5</td>\n",
       "      <td>58</td>\n",
       "      <td>0</td>\n",
       "      <td>1</td>\n",
       "    </tr>\n",
       "    <tr>\n",
       "      <th>2</th>\n",
       "      <td>0.1</td>\n",
       "      <td>0.470</td>\n",
       "      <td>268</td>\n",
       "      <td>89</td>\n",
       "      <td>17.7</td>\n",
       "      <td>62</td>\n",
       "      <td>0</td>\n",
       "      <td>1</td>\n",
       "    </tr>\n",
       "    <tr>\n",
       "      <th>3</th>\n",
       "      <td>0.1</td>\n",
       "      <td>0.463</td>\n",
       "      <td>272</td>\n",
       "      <td>93</td>\n",
       "      <td>18.0</td>\n",
       "      <td>67</td>\n",
       "      <td>0</td>\n",
       "      <td>1</td>\n",
       "    </tr>\n",
       "    <tr>\n",
       "      <th>4</th>\n",
       "      <td>0.1</td>\n",
       "      <td>0.454</td>\n",
       "      <td>275</td>\n",
       "      <td>97</td>\n",
       "      <td>18.2</td>\n",
       "      <td>68</td>\n",
       "      <td>0</td>\n",
       "      <td>1</td>\n",
       "    </tr>\n",
       "  </tbody>\n",
       "</table>\n",
       "</div>"
      ],
      "text/plain": [
       "   HIV/AIDS  Income composition of resources  Adult mortality  \\\n",
       "0       0.1                            0.479              263   \n",
       "1       0.1                            0.476              271   \n",
       "2       0.1                            0.470              268   \n",
       "3       0.1                            0.463              272   \n",
       "4       0.1                            0.454              275   \n",
       "\n",
       "   Under-five deaths  Thinness 5-9 years  Polio  Status_Developed  \\\n",
       "0                 83                17.3      6                 0   \n",
       "1                 86                17.5     58                 0   \n",
       "2                 89                17.7     62                 0   \n",
       "3                 93                18.0     67                 0   \n",
       "4                 97                18.2     68                 0   \n",
       "\n",
       "   Status_Developing  \n",
       "0                  1  \n",
       "1                  1  \n",
       "2                  1  \n",
       "3                  1  \n",
       "4                  1  "
      ]
     },
     "execution_count": 17,
     "metadata": {},
     "output_type": "execute_result"
    }
   ],
   "source": [
    "#Perform OHE\n",
    "X_ohe = pd.get_dummies(X)\n",
    "print(X_ohe.shape)\n",
    "X_ohe.head()"
   ]
  },
  {
   "attachments": {},
   "cell_type": "markdown",
   "metadata": {},
   "source": [
    "# Training via pipelienes"
   ]
  },
  {
   "cell_type": "code",
   "execution_count": null,
   "metadata": {},
   "outputs": [],
   "source": [
    "#Train/test split\n",
    "from sklearn.model_selection import train_test_split\n",
    "\n",
    "X_train, X_test, y_train, y_test = train_test_split(X_ohe, y, test_size=0.3, random_state=1)"
   ]
  },
  {
   "cell_type": "code",
   "execution_count": null,
   "metadata": {},
   "outputs": [],
   "source": [
    "#Setup MLDev pipeline\n",
    "from sklearn.pipeline import make_pipeline\n",
    "from sklearn.preprocessing import StandardScaler\n",
    "from sklearn.linear_model import LinearRegression\n",
    "from sklearn.ensemble import RandomForestRegressor, GradientBoostingRegressor\n",
    "\n",
    "mldev_pipeline = {\n",
    "    'linreg': make_pipeline(StandardScaler(), LinearRegression()),\n",
    "    'rf': make_pipeline(StandardScaler(), RandomForestRegressor()),\n",
    "    'gb': make_pipeline(StandardScaler(), GradientBoostingRegressor())\n",
    "}\n",
    "\n",
    "for model_name, pipeline in mldev_pipeline.items():\n",
    "    print(model_name)\n",
    "    print(pipeline)"
   ]
  },
  {
   "cell_type": "code",
   "execution_count": null,
   "metadata": {},
   "outputs": [],
   "source": [
    "#These can also be viewed visually\n",
    "mldev_pipeline['linreg']"
   ]
  },
  {
   "cell_type": "code",
   "execution_count": null,
   "metadata": {},
   "outputs": [],
   "source": [
    "#Check the parameters for these models\n",
    "print('LinReg Params:',LinearRegression().get_params())\n",
    "print('RF Params:',RandomForestRegressor().get_params())\n",
    "print('GB Params:',GradientBoostingRegressor().get_params())"
   ]
  },
  {
   "cell_type": "code",
   "execution_count": null,
   "metadata": {},
   "outputs": [],
   "source": [
    "#Create a grid for hyperparameters tuning\n",
    "hpgrid = {\n",
    "\n",
    "    'linreg':{\n",
    "    },\n",
    "    \n",
    "    'rf':{\n",
    "        'randomforestregressor__n_estimators':[100, 200, 300],\n",
    "        'randomforestregressor__max_depth':[5, 10, 'None']\n",
    "    },\n",
    "\n",
    "    'gb':{\n",
    "        'gradientboostingregressor__n_estimators':[100,200,300],\n",
    "        'gradientboostingregressor__learning_rate':[0.1, 0.2],\n",
    "    }\n",
    "}"
   ]
  },
  {
   "cell_type": "code",
   "execution_count": null,
   "metadata": {},
   "outputs": [],
   "source": [
    "#Training the models by looping across pipeline\n",
    "from sklearn.model_selection import GridSearchCV\n",
    "\n",
    "trained_models = {}\n",
    "for model_name, pipeline in mldev_pipeline.items():\n",
    "    #Train using CV class\n",
    "    print(f'Training model: {model_name}')\n",
    "    model = GridSearchCV(pipeline, hpgrid[model_name], n_jobs = -1, cv = 10) #n_jobs = -1 will use all processors for parallel computing\n",
    "    model.fit(X_train, y_train.values.ravel())\n",
    "    trained_models[model_name] = model\n",
    "\n",
    "trained_models"
   ]
  },
  {
   "cell_type": "code",
   "execution_count": null,
   "metadata": {},
   "outputs": [],
   "source": [
    "# Check metrics\n",
    "from sklearn.metrics import mean_absolute_error, mean_squared_error,r2_score\n",
    "\n",
    "for model_name, model in trained_models.items():\n",
    "    y_hat = model.predict(X_test)\n",
    "    print(f'Metrics for {model_name}:',\n",
    "    'MAE=', mean_absolute_error(y_test,y_hat),\n",
    "    'RMSE=', mean_squared_error(y_test,y_hat, squared=False),\n",
    "    'R2=', r2_score(y_test,y_hat)    \n",
    "    )"
   ]
  },
  {
   "cell_type": "code",
   "execution_count": null,
   "metadata": {},
   "outputs": [],
   "source": [
    "#Checking parameters for the best model\n",
    "trained_models['rf'].get_params()"
   ]
  },
  {
   "cell_type": "code",
   "execution_count": null,
   "metadata": {},
   "outputs": [],
   "source": [
    "# Saving best model\n",
    "import pickle\n",
    "with open('bestmodel.pkl', 'wb') as f:\n",
    "    pickle.dump(trained_models['rf'], f)"
   ]
  },
  {
   "cell_type": "code",
   "execution_count": null,
   "metadata": {},
   "outputs": [],
   "source": [
    "#If we need to reload the model in future, we can use this code\n",
    "with open('bestmodel.pkl', 'rb') as f:\n",
    "    reloaded_model = pickle.load(f)\n",
    "\n",
    "reloaded_model"
   ]
  },
  {
   "cell_type": "markdown",
   "metadata": {},
   "source": [
    "# Training from scratch"
   ]
  },
  {
   "cell_type": "code",
   "execution_count": 18,
   "metadata": {},
   "outputs": [],
   "source": [
    "#Train/test split\n",
    "from sklearn.model_selection import train_test_split\n",
    "\n",
    "X_train, X_test, y_train, y_test = train_test_split(X_ohe, y, test_size=0.3, random_state=1)"
   ]
  },
  {
   "cell_type": "code",
   "execution_count": null,
   "metadata": {},
   "outputs": [],
   "source": [
    "#Scaling\n",
    "from sklearn.preprocessing import StandardScaler\n",
    "scaler = StandardScaler()\n",
    "scaler.fit(X_train)"
   ]
  },
  {
   "cell_type": "code",
   "execution_count": null,
   "metadata": {},
   "outputs": [],
   "source": [
    "from sklearn.ensemble import RandomForestRegressor\n",
    "from sklearn.model_selection import cross_val_score\n",
    "\n",
    "rfreg = RandomForestRegressor()\n",
    "rfreg.fit(scaler.transform(X_train), y_train.values.ravel())\n",
    "scores = cross_val_score(rfreg, scaler.transform(X_train), y_train.values.ravel(), cv=10)\n",
    "scores"
   ]
  },
  {
   "cell_type": "code",
   "execution_count": null,
   "metadata": {},
   "outputs": [],
   "source": [
    "# Check metrics\n",
    "from sklearn.metrics import mean_absolute_error, mean_squared_error,r2_score\n",
    "y_hat = rfreg.predict(scaler.transform(X_test))\n",
    "print('MAE=', mean_absolute_error(y_test,y_hat),\n",
    "'RMSE=', mean_squared_error(y_test,y_hat, squared=False),\n",
    "'R2=', r2_score(y_test,y_hat)\n",
    ")"
   ]
  },
  {
   "cell_type": "code",
   "execution_count": null,
   "metadata": {},
   "outputs": [],
   "source": [
    "r2_adj = 1 - (1-r2_score(y_test,y_hat))*(len(y_hat)-1)/(len(y_hat)-len(X_test.columns)-1)\n",
    "r2_adj"
   ]
  },
  {
   "cell_type": "code",
   "execution_count": null,
   "metadata": {},
   "outputs": [],
   "source": [
    "rfreg.get_params()"
   ]
  },
  {
   "cell_type": "code",
   "execution_count": null,
   "metadata": {},
   "outputs": [],
   "source": [
    "# Saving model\n",
    "import pickle\n",
    "#with open('model_fromscratch.pkl', 'wb') as f:\n",
    "#    pickle.dump(rfreg, f)\n",
    "\n",
    "pickle.dump(rfreg, open('model_fromscratch.pkl', 'wb'))"
   ]
  },
  {
   "cell_type": "code",
   "execution_count": null,
   "metadata": {},
   "outputs": [],
   "source": [
    "# Saving standardization params\n",
    "pickle.dump(scaler, open('scaling.pkl','wb'))"
   ]
  },
  {
   "cell_type": "code",
   "execution_count": null,
   "metadata": {},
   "outputs": [],
   "source": [
    "#If above training does not work, check optimal train test split by this:\n",
    "\n",
    "for i in range(0,10):\n",
    "    print('----------------------------------------------------------')\n",
    "    print('Random state for split=', i)\n",
    "    X_train, X_test, y_train, y_test = train_test_split(X_ohe, y, test_size=0.3, random_state=i)\n",
    "\n",
    "    scaler = StandardScaler()\n",
    "    scaler.fit(X_train)\n",
    "\n",
    "    rfreg = RandomForestRegressor()\n",
    "    rfreg.fit(scaler.transform(X_train), y_train.values.ravel())\n",
    "    scores = cross_val_score(rfreg, scaler.transform(X_train), y_train.values.ravel(), cv=10)\n",
    "    print(scores)\n",
    "    from sklearn.metrics import mean_absolute_error, mean_squared_error,r2_score\n",
    "    y_hat = rfreg.predict(scaler.transform(X_test))\n",
    "    print('MAE=', mean_absolute_error(y_test,y_hat),\n",
    "    'RMSE=', mean_squared_error(y_test,y_hat, squared=False),\n",
    "    'R2=', r2_score(y_test,y_hat)\n",
    "    )"
   ]
  },
  {
   "attachments": {},
   "cell_type": "markdown",
   "metadata": {},
   "source": [
    "# Plotting the predictions"
   ]
  },
  {
   "cell_type": "code",
   "execution_count": null,
   "metadata": {},
   "outputs": [],
   "source": [
    "#Plotting parity plot\n",
    "import matplotlib.pyplot as plt\n",
    "%matplotlib inline\n",
    "\n",
    "plt.scatter(y_test, y_hat)\n",
    "plt.plot(y_test,y_test,'k-') \n",
    "plt.xlabel('True Life Expectancy')\n",
    "plt.ylabel('Predicted Life Expectancy')"
   ]
  },
  {
   "cell_type": "code",
   "execution_count": null,
   "metadata": {},
   "outputs": [],
   "source": [
    "#Plotting residuals\n",
    "import seaborn as sns\n",
    "\n",
    "residuals = y_test.values.ravel() - y_hat\n",
    "sns.displot(residuals, kind = 'kde')\n",
    "plt.xlabel('Residuals')"
   ]
  },
  {
   "cell_type": "code",
   "execution_count": null,
   "metadata": {},
   "outputs": [],
   "source": [
    "# Plotting scatter plot for residuals and predictions\n",
    "plt.scatter(y_hat, residuals)\n",
    "plt.xlabel('Predicted Life Expectancy')\n",
    "plt.ylabel('Residuals')"
   ]
  },
  {
   "attachments": {},
   "cell_type": "markdown",
   "metadata": {},
   "source": [
    "# Testing for app API (SINGLE SAMPLE ONLY)"
   ]
  },
  {
   "cell_type": "code",
   "execution_count": 110,
   "metadata": {},
   "outputs": [
    {
     "name": "stdout",
     "output_type": "stream",
     "text": [
      "Actual label for data: 2.37\n",
      "These are the features with data shape:(1, 8)\n"
     ]
    },
    {
     "data": {
      "text/html": [
       "<div>\n",
       "<style scoped>\n",
       "    .dataframe tbody tr th:only-of-type {\n",
       "        vertical-align: middle;\n",
       "    }\n",
       "\n",
       "    .dataframe tbody tr th {\n",
       "        vertical-align: top;\n",
       "    }\n",
       "\n",
       "    .dataframe thead th {\n",
       "        text-align: right;\n",
       "    }\n",
       "</style>\n",
       "<table border=\"1\" class=\"dataframe\">\n",
       "  <thead>\n",
       "    <tr style=\"text-align: right;\">\n",
       "      <th></th>\n",
       "      <th>HIV/AIDS</th>\n",
       "      <th>Income composition of resources</th>\n",
       "      <th>Adult mortality</th>\n",
       "      <th>Under-five deaths</th>\n",
       "      <th>Thinness 5-9 years</th>\n",
       "      <th>Polio</th>\n",
       "      <th>Status_Developed</th>\n",
       "      <th>Status_Developing</th>\n",
       "    </tr>\n",
       "  </thead>\n",
       "  <tbody>\n",
       "    <tr>\n",
       "      <th>1077</th>\n",
       "      <td>0.1</td>\n",
       "      <td>0.624</td>\n",
       "      <td>213</td>\n",
       "      <td>237</td>\n",
       "      <td>1.9</td>\n",
       "      <td>79</td>\n",
       "      <td>0</td>\n",
       "      <td>1</td>\n",
       "    </tr>\n",
       "  </tbody>\n",
       "</table>\n",
       "</div>"
      ],
      "text/plain": [
       "      HIV/AIDS  Income composition of resources  Adult mortality  \\\n",
       "1077       0.1                            0.624              213   \n",
       "\n",
       "      Under-five deaths  Thinness 5-9 years  Polio  Status_Developed  \\\n",
       "1077                237                 1.9     79                 0   \n",
       "\n",
       "      Status_Developing  \n",
       "1077                  1  "
      ]
     },
     "execution_count": 110,
     "metadata": {},
     "output_type": "execute_result"
    }
   ],
   "source": [
    "#Testing with sample data\n",
    "\n",
    "print('Actual label for data:', y_train.iloc[0]['Total expenditure'])\n",
    "print(f'These are the features with data shape:{X_train.iloc[0:1,:].shape}')\n",
    "sample = X_train.iloc[0:1,:]\n",
    "sample.to_csv('sample.csv', index=True)\n",
    "sample.head()"
   ]
  },
  {
   "cell_type": "code",
   "execution_count": 111,
   "metadata": {},
   "outputs": [
    {
     "name": "stdout",
     "output_type": "stream",
     "text": [
      "Data shape: (1, 8)\n",
      "Predicted value: 2.5392000000000023\n"
     ]
    },
    {
     "name": "stderr",
     "output_type": "stream",
     "text": [
      "/home/hassan101/anaconda3/envs/aws_env/lib/python3.8/site-packages/sklearn/base.py:409: UserWarning: X does not have valid feature names, but StandardScaler was fitted with feature names\n",
      "  warnings.warn(\n"
     ]
    }
   ],
   "source": [
    "#Predicting with script (passing without additional header)\n",
    "import pickle\n",
    "import json\n",
    "import numpy as np\n",
    "\n",
    "model = pickle.load( open('model_fromscratch.pkl', 'rb') )\n",
    "scaler = pickle.load( open('scaling.pkl', 'rb') )\n",
    "\n",
    "#Importing sample data and preparing data in form of JSON\n",
    "sample = pd.read_csv('sample.csv', index_col=0)\n",
    "dic = sample.to_dict('list') #This will only use column-values pair for dic, index will be ignored. To use index as header for JSON later, use 'index' as argument\n",
    "data_as_json=json.dumps(dic)\n",
    "data_as_json\n",
    "\n",
    "#Loading JSON data on the app, and transforming for predictions\n",
    "data_as_dic = json.loads(data_as_json)\n",
    "data_as_array = np.array(list(data_as_dic.values())).reshape(1,-1)\n",
    "print('Data shape:', data_as_array.shape)\n",
    "data_sc=scaler.transform(data_as_array)\n",
    "output=model.predict(data_sc)\n",
    "print('Predicted value:', output[0])"
   ]
  },
  {
   "cell_type": "code",
   "execution_count": 70,
   "metadata": {},
   "outputs": [
    {
     "name": "stdout",
     "output_type": "stream",
     "text": [
      "Data shape: (1, 8)\n",
      "Predicted value: 2.5392000000000023\n"
     ]
    },
    {
     "name": "stderr",
     "output_type": "stream",
     "text": [
      "/home/hassan101/anaconda3/envs/aws_env/lib/python3.8/site-packages/sklearn/base.py:409: UserWarning: X does not have valid feature names, but StandardScaler was fitted with feature names\n",
      "  warnings.warn(\n"
     ]
    }
   ],
   "source": [
    "#Predicting with script (passing without additional header) - Manual input\n",
    "import pickle\n",
    "import json\n",
    "import numpy as np\n",
    "\n",
    "model = pickle.load( open('model_fromscratch.pkl', 'rb') )\n",
    "scaler = pickle.load( open('scaling.pkl', 'rb') )\n",
    "\n",
    "#Preparing data in form of JSON\n",
    "dic = {\n",
    "\t\t\"HIV/AIDS\": 0.1,\n",
    "\t\t\"Income composition of resources\": 0.624,\n",
    "\t\t\"Adult mortality\": 213.0,\n",
    "\t\t\"Under-five deaths\": 237.0,\n",
    "\t\t\"Thinness 5-9 years\": 1.9,\n",
    "\t\t\"Polio\": 79.0,\n",
    "\t\t\"Status_Developed\": 0.0,\n",
    "\t\t\"Status_Developing\": 1.0\n",
    "\t}\n",
    "data_as_json=json.dumps(dic)\n",
    "data_as_json\n",
    "\n",
    "#Loading JSON data on the app, and transforming for predictions\n",
    "data_as_dic = json.loads(data_as_json)\n",
    "data_as_array = np.array(list(data_as_dic.values())).reshape(1,-1)\n",
    "print('Data shape:', data_as_array.shape)\n",
    "data_sc=scaler.transform(data_as_array)\n",
    "output=model.predict(data_sc)\n",
    "print('Predicted value:', output[0])"
   ]
  },
  {
   "cell_type": "code",
   "execution_count": 54,
   "metadata": {},
   "outputs": [
    {
     "name": "stdout",
     "output_type": "stream",
     "text": [
      "Data shape: (1, 8)\n",
      "Predicted value: 2.5392000000000023\n"
     ]
    },
    {
     "name": "stderr",
     "output_type": "stream",
     "text": [
      "/home/hassan101/anaconda3/envs/aws_env/lib/python3.8/site-packages/sklearn/base.py:409: UserWarning: X does not have valid feature names, but StandardScaler was fitted with feature names\n",
      "  warnings.warn(\n"
     ]
    }
   ],
   "source": [
    "#Predicting with script (passing with additional \"data\"\" header) - Manual input\n",
    "import pickle\n",
    "import json\n",
    "import numpy as np\n",
    "\n",
    "model = pickle.load( open('model_fromscratch.pkl', 'rb') )\n",
    "scaler = pickle.load( open('scaling.pkl', 'rb') )\n",
    "\n",
    "#Preparing data in form of JSON\n",
    "dic = {\n",
    "    \"data\":{\n",
    "\t\t\"HIV/AIDS\": 0.1,\n",
    "\t\t\"Income composition of resources\": 0.624,\n",
    "\t\t\"Adult mortality\": 213.0,\n",
    "\t\t\"Under-five deaths\": 237.0,\n",
    "\t\t\"Thinness 5-9 years\": 1.9,\n",
    "\t\t\"Polio\": 79.0,\n",
    "\t\t\"Status_Developed\": 0.0,\n",
    "\t\t\"Status_Developing\": 1.0\n",
    "\t}\n",
    "}\n",
    "data_as_json=json.dumps(dic['data'])\n",
    "data_as_json\n",
    "\n",
    "#Loading JSON data on the app, and transforming for predictions\n",
    "data_as_dic = json.loads(data_as_json)\n",
    "data_as_array = np.array(list(data_as_dic.values())).reshape(1,-1)\n",
    "print('Data shape:', data_as_array.shape)\n",
    "data_sc=scaler.transform(data_as_array)\n",
    "output=model.predict(data_sc)\n",
    "print('Predicted value:', output[0])"
   ]
  }
 ],
 "metadata": {
  "kernelspec": {
   "display_name": "aws_env",
   "language": "python",
   "name": "python3"
  },
  "language_info": {
   "codemirror_mode": {
    "name": "ipython",
    "version": 3
   },
   "file_extension": ".py",
   "mimetype": "text/x-python",
   "name": "python",
   "nbconvert_exporter": "python",
   "pygments_lexer": "ipython3",
   "version": "3.8.0"
  },
  "orig_nbformat": 4,
  "vscode": {
   "interpreter": {
    "hash": "c52f623ceac37ddf7faf652ecec1076e97b4693849be5fb4832d0833d01e4686"
   }
  }
 },
 "nbformat": 4,
 "nbformat_minor": 2
}
